{
  "nbformat": 4,
  "nbformat_minor": 0,
  "metadata": {
    "colab": {
      "name": "csv.gz_unzip.ipynb",
      "provenance": [],
      "mount_file_id": "16OFcFJ72asjEaJKLd-rIvmgOFvWszV9G",
      "authorship_tag": "ABX9TyPBz6dJrQ7g0cRrYiiaVuzN",
      "include_colab_link": true
    },
    "kernelspec": {
      "name": "python3",
      "display_name": "Python 3"
    },
    "language_info": {
      "name": "python"
    }
  },
  "cells": [
    {
      "cell_type": "markdown",
      "metadata": {
        "id": "view-in-github",
        "colab_type": "text"
      },
      "source": [
        "<a href=\"https://colab.research.google.com/github/KimJisanER/medical_ai/blob/main/csv_gz_unzip.ipynb\" target=\"_parent\"><img src=\"https://colab.research.google.com/assets/colab-badge.svg\" alt=\"Open In Colab\"/></a>"
      ]
    },
    {
      "cell_type": "code",
      "execution_count": 10,
      "metadata": {
        "id": "IgCh0ukV_0Fj"
      },
      "outputs": [],
      "source": [
        "import gzip\n",
        "import pandas as pd\n",
        "import numpy as np\n",
        "import os\n",
        "from glob import glob"
      ]
    },
    {
      "cell_type": "code",
      "source": [
        "\n",
        "path = '/content/drive/MyDrive/medical_ai/mimic4/icu'\n",
        "\n",
        "for filename in glob(path +\"*\"):\n",
        "  for gz in glob(filename + \"/*.csv.gz\"):\n",
        "    gz_uz=gz.replace('mimic4','mimic4_unzip')[:-3]\n",
        "    data = pd.read_csv(gz, compression='gzip',\n",
        "                   error_bad_lines=False)\n",
        "    data.to_csv(gz_uz,index=False)\n"
      ],
      "metadata": {
        "id": "uqG-LafAUMPk"
      },
      "execution_count": 17,
      "outputs": []
    }
  ]
}