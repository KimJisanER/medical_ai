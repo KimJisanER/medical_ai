{
  "cells": [
    {
      "cell_type": "markdown",
      "metadata": {
        "id": "view-in-github",
        "colab_type": "text"
      },
      "source": [
        "<a href=\"https://colab.research.google.com/github/KimJisanER/medical_ai/blob/main/%5Bopen%5D_01_ECG_arrhythmia_detection_using_MIMIC.ipynb\" target=\"_parent\"><img src=\"https://colab.research.google.com/assets/colab-badge.svg\" alt=\"Open In Colab\"/></a>"
      ]
    },
    {
      "cell_type": "markdown",
      "id": "impossible-sacramento",
      "metadata": {
        "tags": [],
        "id": "impossible-sacramento"
      },
      "source": [
        "\n",
        "# 의료인공지능 전문가 양성과정 2022\n",
        "## MIMIC waveform Tutorial : ECG arrhythmia detection\n",
        "- Date : Sep. 03, 2022\n",
        "- Author : **Hyun-Lim Yang, Ph.D.**<br>\n",
        "Research Assistant Professor @\n",
        "Seoul National University Hospital <br>\n",
        "Department of Anesthesiology and Pain Medicine\n",
        "- E-mail : hlyang{_at_}snu{_dot_}ac{_dot_}kr\n",
        "***"
      ]
    },
    {
      "cell_type": "markdown",
      "id": "downtown-bangkok",
      "metadata": {
        "id": "downtown-bangkok"
      },
      "source": [
        "\n",
        "## 0. Goal\n",
        "#### Heart Arrhythmia Detection from ECG waveform with Deep  Learning model\n",
        "본 강의에서는 **딥러닝을 이용해서 ECG waveform을 분석하고 arrhythmia를 예측하는 방법**을 알아봅니다.<br>\n",
        "아래의 온라인 자료들을 활용하여 더 많은 정보를 확인할 수 있습니다.<br>\n",
        "(본 강의도 아래 자료의 내용을 참고하였습니다.)<br>\n",
        ">Reference source: <br>\n",
        "> https://github.com/andrewwlong/deep_arrhythmias <br>\n",
        "> https://towardsdatascience.com/detecting-heart-arrhythmias-with-deep-learning-in-keras-with-dense-cnn-and-lstm-add337d9e41f <br>\n",
        "> https://github.com/eddymina/ECG_Classification_Pytorch/blob/master/ECG_notebook.ipynb <br>\n",
        "***"
      ]
    },
    {
      "cell_type": "markdown",
      "id": "quarterly-draft",
      "metadata": {
        "id": "quarterly-draft"
      },
      "source": [
        "## 1. Backgrounds\n",
        "### 1-1. Dataset\n",
        "**MIT-BIH Arrhythmia dataset**을 활용하여 실습을 진행합니다. <br>\n",
        "(source: https://physionet.org/content/mitdb/1.0.0/) <br>\n",
        "이 데이터셋은 Boston's Beth Israel Hospital 에서 1975년 ~ 1979년 사이 in-patient & out-patient를 모두 포함하는 4000명 환자의 case에서, **23개 case를 랜덤 샘플**하고 **중요한 arrhythmia를 포함하는 25개 case를 임의로 선택**하여 구축하였습니다.<br>\n",
        "360Hz를 가지는 2-channel ECG waveform과 annotation을 포함합니다."
      ]
    },
    {
      "cell_type": "markdown",
      "id": "pressed-oxford",
      "metadata": {
        "id": "pressed-oxford"
      },
      "source": [
        "### 1-2. Deep Learning Framework \n",
        "본 실습에서는 **`Keras`**를 활용합니다. (official site: https://keras.io/ko/)<br>\n",
        "`Keras`는 **high-level open source deep learning framework**로 Tensorflow, PyTorch, Caffe, MXNet 등과 함께 많이 쓰이는 프레임워크 입니다.<br>\n",
        "특히 `Keras`는 개발 초기에는 독립된 high-level API 로써 `Tensorflow` 혹은 `Theano`를 backend로 하여 서비스를 제공하였으나, **최근 `Tensorflow 2.0`에 완전 통합**되어 `Tensorflow 2.0`을 통해 제공됩니다. High-level API의 특성상 개발의 자유도는 다소 떨어지나, 사용편의성이 매우 높아서 빠르게 결과물을 확인하고자 하는 인공지능 연구자들이나 산업계에서도 인기가 높습니다. 더욱이 초급자들이 딥러닝을 학습하기에 아주 좋은 framework 입니다.<br>\n",
        "사용자 편의를 위한 다양한 함수들을 제공하고 확장성 또한 우수한 편입니다. 파이썬과 매우 호환이 잘 되고 [pythonic](https://www.python.org/dev/peps/pep-0020/) 한 코드를 제공합니다."
      ]
    },
    {
      "cell_type": "markdown",
      "id": "scientific-sarah",
      "metadata": {
        "id": "scientific-sarah"
      },
      "source": [
        "### 1-3. Other packages\n",
        "이외에 사용되는 주요한 패키지는 다음과 같습니다:\n",
        "1. `wfdb` : MIT-BIH arrhythmia dataset을 배포하는 MIMIC 팀이 자체 데이터를 처리하기 위해 개발하고 배포하는 패키지 입니다. signal과 annotation data를 읽어오는데 사용합니다.\n",
        "2. `numpy` : 벡터, 행렬 연산에 특화된 패키지 입니다.\n",
        "3. `pandas` : 데이터 분석에 특화된 패키지 입니다. 데이터 전처리와 후처리에 활용합니다.\n",
        "4. `matplotlib` : Data visualization에 특화된 패키지 입니다. 각종 plotting에 활용합니다.\n",
        "5. `sklearn` : 기계학습에 특화된 패키지 입니다. 모델 성능 분석에 활용합니다.\n",
        "\n",
        "\n",
        "***"
      ]
    },
    {
      "cell_type": "markdown",
      "id": "polish-writer",
      "metadata": {
        "id": "polish-writer"
      },
      "source": [
        "## 2. Data Downloads and Basic Statistics"
      ]
    },
    {
      "cell_type": "code",
      "execution_count": 1,
      "id": "leading-support",
      "metadata": {
        "id": "leading-support",
        "outputId": "fecb45f7-bf09-4b34-9814-0c56230a440d",
        "colab": {
          "base_uri": "https://localhost:8080/"
        }
      },
      "outputs": [
        {
          "output_type": "stream",
          "name": "stdout",
          "text": [
            "Looking in indexes: https://pypi.org/simple, https://us-python.pkg.dev/colab-wheels/public/simple/\n",
            "Collecting wfdb\n",
            "  Downloading wfdb-4.0.0-py3-none-any.whl (161 kB)\n",
            "\u001b[K     |████████████████████████████████| 161 kB 4.1 MB/s \n",
            "\u001b[?25hRequirement already satisfied: matplotlib<4.0.0,>=3.2.2 in /usr/local/lib/python3.7/dist-packages (from wfdb) (3.2.2)\n",
            "Requirement already satisfied: requests<3.0.0,>=2.8.1 in /usr/local/lib/python3.7/dist-packages (from wfdb) (2.23.0)\n",
            "Requirement already satisfied: pandas<2.0.0,>=1.0.0 in /usr/local/lib/python3.7/dist-packages (from wfdb) (1.3.5)\n",
            "Requirement already satisfied: numpy<2.0.0,>=1.10.1 in /usr/local/lib/python3.7/dist-packages (from wfdb) (1.21.6)\n",
            "Requirement already satisfied: scipy<2.0.0,>=1.0.0 in /usr/local/lib/python3.7/dist-packages (from wfdb) (1.7.3)\n",
            "Requirement already satisfied: SoundFile<0.12.0,>=0.10.0 in /usr/local/lib/python3.7/dist-packages (from wfdb) (0.10.3.post1)\n",
            "Requirement already satisfied: cycler>=0.10 in /usr/local/lib/python3.7/dist-packages (from matplotlib<4.0.0,>=3.2.2->wfdb) (0.11.0)\n",
            "Requirement already satisfied: python-dateutil>=2.1 in /usr/local/lib/python3.7/dist-packages (from matplotlib<4.0.0,>=3.2.2->wfdb) (2.8.2)\n",
            "Requirement already satisfied: kiwisolver>=1.0.1 in /usr/local/lib/python3.7/dist-packages (from matplotlib<4.0.0,>=3.2.2->wfdb) (1.4.4)\n",
            "Requirement already satisfied: pyparsing!=2.0.4,!=2.1.2,!=2.1.6,>=2.0.1 in /usr/local/lib/python3.7/dist-packages (from matplotlib<4.0.0,>=3.2.2->wfdb) (3.0.9)\n",
            "Requirement already satisfied: typing-extensions in /usr/local/lib/python3.7/dist-packages (from kiwisolver>=1.0.1->matplotlib<4.0.0,>=3.2.2->wfdb) (4.1.1)\n",
            "Requirement already satisfied: pytz>=2017.3 in /usr/local/lib/python3.7/dist-packages (from pandas<2.0.0,>=1.0.0->wfdb) (2022.2.1)\n",
            "Requirement already satisfied: six>=1.5 in /usr/local/lib/python3.7/dist-packages (from python-dateutil>=2.1->matplotlib<4.0.0,>=3.2.2->wfdb) (1.15.0)\n",
            "Requirement already satisfied: certifi>=2017.4.17 in /usr/local/lib/python3.7/dist-packages (from requests<3.0.0,>=2.8.1->wfdb) (2022.6.15)\n",
            "Requirement already satisfied: urllib3!=1.25.0,!=1.25.1,<1.26,>=1.21.1 in /usr/local/lib/python3.7/dist-packages (from requests<3.0.0,>=2.8.1->wfdb) (1.24.3)\n",
            "Requirement already satisfied: idna<3,>=2.5 in /usr/local/lib/python3.7/dist-packages (from requests<3.0.0,>=2.8.1->wfdb) (2.10)\n",
            "Requirement already satisfied: chardet<4,>=3.0.2 in /usr/local/lib/python3.7/dist-packages (from requests<3.0.0,>=2.8.1->wfdb) (3.0.4)\n",
            "Requirement already satisfied: cffi>=1.0 in /usr/local/lib/python3.7/dist-packages (from SoundFile<0.12.0,>=0.10.0->wfdb) (1.15.1)\n",
            "Requirement already satisfied: pycparser in /usr/local/lib/python3.7/dist-packages (from cffi>=1.0->SoundFile<0.12.0,>=0.10.0->wfdb) (2.21)\n",
            "Installing collected packages: wfdb\n",
            "Successfully installed wfdb-4.0.0\n"
          ]
        }
      ],
      "source": [
        "!pip install wfdb"
      ]
    },
    {
      "cell_type": "code",
      "execution_count": 2,
      "id": "directed-arabic",
      "metadata": {
        "id": "directed-arabic"
      },
      "outputs": [],
      "source": [
        "import pandas as pd\n",
        "import numpy as np\n",
        "import matplotlib\n",
        "%matplotlib inline\n",
        "import matplotlib.pylab as plt\n",
        "import os\n",
        "import sys\n",
        "import glob\n",
        "import tqdm\n",
        "import random\n",
        "from itertools import cycle\n",
        "import warnings\n",
        "warnings.filterwarnings(action='ignore')\n",
        "\n",
        "import wfdb\n",
        "\n",
        "from sklearn.metrics import roc_auc_score, roc_curve, classification_report, auc\n",
        "from sklearn.preprocessing import label_binarize"
      ]
    },
    {
      "cell_type": "markdown",
      "id": "chief-frame",
      "metadata": {
        "id": "chief-frame"
      },
      "source": [
        "### 2.1 Data download\n",
        "실습에 사용될 데이터를 다운받습니다.<br>\n",
        "데이터 사이즈가 크지 않으므로 로컬로 mimic 홈페이지에서 바로 다운로드를 진행합니다<br>\n",
        "> **Warning!** <br>\n",
        "> 만약, 데이터 다운로드에 너무 오랜 시간이 걸리거나 오류가 있다면, 아래의 공유 링크를 클릭하여 '나의 드라이브에 바로가기 추가'를 하고, comment out한 코드를 실행시키세요. <br>\n",
        "> Link: https://drive.google.com/drive/folders/1GJJXU5VFAG1nJVeYX-Yy3a2kbaYwuDq3?usp=sharing"
      ]
    },
    {
      "cell_type": "code",
      "execution_count": 3,
      "id": "owned-construction",
      "metadata": {
        "id": "owned-construction",
        "outputId": "38bc6e43-83ed-486b-e5a4-8a423ec54610",
        "colab": {
          "base_uri": "https://localhost:8080/"
        }
      },
      "outputs": [
        {
          "output_type": "stream",
          "name": "stdout",
          "text": [
            "--2022-09-03 01:15:32--  https://www.physionet.org/static/published-projects/mitdb/mit-bih-arrhythmia-database-1.0.0.zip\n",
            "Resolving www.physionet.org (www.physionet.org)... 18.18.42.54\n",
            "Connecting to www.physionet.org (www.physionet.org)|18.18.42.54|:443... connected.\n",
            "HTTP request sent, awaiting response... 200 OK\n",
            "Length: 77030320 (73M) [application/zip]\n",
            "Saving to: ‘mit-bih-arrhythmia-database-1.0.0.zip’\n",
            "\n",
            "mit-bih-arrhythmia- 100%[===================>]  73.46M  2.63MB/s    in 29s     \n",
            "\n",
            "2022-09-03 01:16:02 (2.51 MB/s) - ‘mit-bih-arrhythmia-database-1.0.0.zip’ saved [77030320/77030320]\n",
            "\n",
            "Archive:  mit-bih-arrhythmia-database-1.0.0.zip\n",
            "  inflating: mit-bih-arrhythmia-database-1.0.0/100.atr  \n",
            "  inflating: mit-bih-arrhythmia-database-1.0.0/100.dat  \n",
            "  inflating: mit-bih-arrhythmia-database-1.0.0/100.hea  \n",
            "  inflating: mit-bih-arrhythmia-database-1.0.0/100.xws  \n",
            "  inflating: mit-bih-arrhythmia-database-1.0.0/101.atr  \n",
            "  inflating: mit-bih-arrhythmia-database-1.0.0/101.dat  \n",
            "  inflating: mit-bih-arrhythmia-database-1.0.0/101.hea  \n",
            "  inflating: mit-bih-arrhythmia-database-1.0.0/101.xws  \n",
            "  inflating: mit-bih-arrhythmia-database-1.0.0/102-0.atr  \n",
            "  inflating: mit-bih-arrhythmia-database-1.0.0/102.atr  \n",
            "  inflating: mit-bih-arrhythmia-database-1.0.0/102.dat  \n",
            "  inflating: mit-bih-arrhythmia-database-1.0.0/102.hea  \n",
            "  inflating: mit-bih-arrhythmia-database-1.0.0/102.xws  \n",
            "  inflating: mit-bih-arrhythmia-database-1.0.0/103.atr  \n",
            "  inflating: mit-bih-arrhythmia-database-1.0.0/103.dat  \n",
            "  inflating: mit-bih-arrhythmia-database-1.0.0/103.hea  \n",
            "  inflating: mit-bih-arrhythmia-database-1.0.0/103.xws  \n",
            "  inflating: mit-bih-arrhythmia-database-1.0.0/104.atr  \n",
            "  inflating: mit-bih-arrhythmia-database-1.0.0/104.dat  \n",
            "  inflating: mit-bih-arrhythmia-database-1.0.0/104.hea  \n",
            "  inflating: mit-bih-arrhythmia-database-1.0.0/104.xws  \n",
            "  inflating: mit-bih-arrhythmia-database-1.0.0/105.atr  \n",
            "  inflating: mit-bih-arrhythmia-database-1.0.0/105.dat  \n",
            "  inflating: mit-bih-arrhythmia-database-1.0.0/105.hea  \n",
            "  inflating: mit-bih-arrhythmia-database-1.0.0/105.xws  \n",
            "  inflating: mit-bih-arrhythmia-database-1.0.0/106.atr  \n",
            "  inflating: mit-bih-arrhythmia-database-1.0.0/106.dat  \n",
            "  inflating: mit-bih-arrhythmia-database-1.0.0/106.hea  \n",
            "  inflating: mit-bih-arrhythmia-database-1.0.0/106.xws  \n",
            "  inflating: mit-bih-arrhythmia-database-1.0.0/107.atr  \n",
            "  inflating: mit-bih-arrhythmia-database-1.0.0/107.dat  \n",
            "  inflating: mit-bih-arrhythmia-database-1.0.0/107.hea  \n",
            "  inflating: mit-bih-arrhythmia-database-1.0.0/107.xws  \n",
            "  inflating: mit-bih-arrhythmia-database-1.0.0/108.at_  \n",
            "  inflating: mit-bih-arrhythmia-database-1.0.0/108.atr  \n",
            "  inflating: mit-bih-arrhythmia-database-1.0.0/108.dat  \n",
            "  inflating: mit-bih-arrhythmia-database-1.0.0/108.hea  \n",
            "  inflating: mit-bih-arrhythmia-database-1.0.0/108.xws  \n",
            "  inflating: mit-bih-arrhythmia-database-1.0.0/109.atr  \n",
            "  inflating: mit-bih-arrhythmia-database-1.0.0/109.dat  \n",
            "  inflating: mit-bih-arrhythmia-database-1.0.0/109.hea  \n",
            "  inflating: mit-bih-arrhythmia-database-1.0.0/109.xws  \n",
            "  inflating: mit-bih-arrhythmia-database-1.0.0/111.atr  \n",
            "  inflating: mit-bih-arrhythmia-database-1.0.0/111.dat  \n",
            "  inflating: mit-bih-arrhythmia-database-1.0.0/111.hea  \n",
            "  inflating: mit-bih-arrhythmia-database-1.0.0/111.xws  \n",
            "  inflating: mit-bih-arrhythmia-database-1.0.0/112.atr  \n",
            "  inflating: mit-bih-arrhythmia-database-1.0.0/112.dat  \n",
            "  inflating: mit-bih-arrhythmia-database-1.0.0/112.hea  \n",
            "  inflating: mit-bih-arrhythmia-database-1.0.0/112.xws  \n",
            "  inflating: mit-bih-arrhythmia-database-1.0.0/113.atr  \n",
            "  inflating: mit-bih-arrhythmia-database-1.0.0/113.dat  \n",
            "  inflating: mit-bih-arrhythmia-database-1.0.0/113.hea  \n",
            "  inflating: mit-bih-arrhythmia-database-1.0.0/113.xws  \n",
            "  inflating: mit-bih-arrhythmia-database-1.0.0/114.atr  \n",
            "  inflating: mit-bih-arrhythmia-database-1.0.0/114.dat  \n",
            "  inflating: mit-bih-arrhythmia-database-1.0.0/114.hea  \n",
            "  inflating: mit-bih-arrhythmia-database-1.0.0/114.xws  \n",
            "  inflating: mit-bih-arrhythmia-database-1.0.0/115.atr  \n",
            "  inflating: mit-bih-arrhythmia-database-1.0.0/115.dat  \n",
            "  inflating: mit-bih-arrhythmia-database-1.0.0/115.hea  \n",
            "  inflating: mit-bih-arrhythmia-database-1.0.0/115.xws  \n",
            "  inflating: mit-bih-arrhythmia-database-1.0.0/116.atr  \n",
            "  inflating: mit-bih-arrhythmia-database-1.0.0/116.dat  \n",
            "  inflating: mit-bih-arrhythmia-database-1.0.0/116.hea  \n",
            "  inflating: mit-bih-arrhythmia-database-1.0.0/116.xws  \n",
            "  inflating: mit-bih-arrhythmia-database-1.0.0/117.at_  \n",
            "  inflating: mit-bih-arrhythmia-database-1.0.0/117.atr  \n",
            "  inflating: mit-bih-arrhythmia-database-1.0.0/117.dat  \n",
            "  inflating: mit-bih-arrhythmia-database-1.0.0/117.hea  \n",
            "  inflating: mit-bih-arrhythmia-database-1.0.0/117.xws  \n",
            "  inflating: mit-bih-arrhythmia-database-1.0.0/118.atr  \n",
            "  inflating: mit-bih-arrhythmia-database-1.0.0/118.dat  \n",
            "  inflating: mit-bih-arrhythmia-database-1.0.0/118.hea  \n",
            "  inflating: mit-bih-arrhythmia-database-1.0.0/118.xws  \n",
            "  inflating: mit-bih-arrhythmia-database-1.0.0/119.at_  \n",
            "  inflating: mit-bih-arrhythmia-database-1.0.0/119.atr  \n",
            "  inflating: mit-bih-arrhythmia-database-1.0.0/119.dat  \n",
            "  inflating: mit-bih-arrhythmia-database-1.0.0/119.hea  \n",
            "  inflating: mit-bih-arrhythmia-database-1.0.0/119.xws  \n",
            "  inflating: mit-bih-arrhythmia-database-1.0.0/121.atr  \n",
            "  inflating: mit-bih-arrhythmia-database-1.0.0/121.dat  \n",
            "  inflating: mit-bih-arrhythmia-database-1.0.0/121.hea  \n",
            "  inflating: mit-bih-arrhythmia-database-1.0.0/121.xws  \n",
            "  inflating: mit-bih-arrhythmia-database-1.0.0/122.atr  \n",
            "  inflating: mit-bih-arrhythmia-database-1.0.0/122.dat  \n",
            "  inflating: mit-bih-arrhythmia-database-1.0.0/122.hea  \n",
            "  inflating: mit-bih-arrhythmia-database-1.0.0/122.xws  \n",
            "  inflating: mit-bih-arrhythmia-database-1.0.0/123.atr  \n",
            "  inflating: mit-bih-arrhythmia-database-1.0.0/123.dat  \n",
            "  inflating: mit-bih-arrhythmia-database-1.0.0/123.hea  \n",
            "  inflating: mit-bih-arrhythmia-database-1.0.0/123.xws  \n",
            "  inflating: mit-bih-arrhythmia-database-1.0.0/124.atr  \n",
            "  inflating: mit-bih-arrhythmia-database-1.0.0/124.dat  \n",
            "  inflating: mit-bih-arrhythmia-database-1.0.0/124.hea  \n",
            "  inflating: mit-bih-arrhythmia-database-1.0.0/124.xws  \n",
            "  inflating: mit-bih-arrhythmia-database-1.0.0/200.atr  \n",
            "  inflating: mit-bih-arrhythmia-database-1.0.0/200.dat  \n",
            "  inflating: mit-bih-arrhythmia-database-1.0.0/200.hea  \n",
            "  inflating: mit-bih-arrhythmia-database-1.0.0/200.xws  \n",
            "  inflating: mit-bih-arrhythmia-database-1.0.0/201.atr  \n",
            "  inflating: mit-bih-arrhythmia-database-1.0.0/201.dat  \n",
            "  inflating: mit-bih-arrhythmia-database-1.0.0/201.hea  \n",
            "  inflating: mit-bih-arrhythmia-database-1.0.0/201.xws  \n",
            "  inflating: mit-bih-arrhythmia-database-1.0.0/202.atr  \n",
            "  inflating: mit-bih-arrhythmia-database-1.0.0/202.dat  \n",
            "  inflating: mit-bih-arrhythmia-database-1.0.0/202.hea  \n",
            "  inflating: mit-bih-arrhythmia-database-1.0.0/202.xws  \n",
            "  inflating: mit-bih-arrhythmia-database-1.0.0/203.at-  \n",
            "  inflating: mit-bih-arrhythmia-database-1.0.0/203.at_  \n",
            "  inflating: mit-bih-arrhythmia-database-1.0.0/203.atr  \n",
            "  inflating: mit-bih-arrhythmia-database-1.0.0/203.dat  \n",
            "  inflating: mit-bih-arrhythmia-database-1.0.0/203.hea  \n",
            "  inflating: mit-bih-arrhythmia-database-1.0.0/203.xws  \n",
            "  inflating: mit-bih-arrhythmia-database-1.0.0/205.atr  \n",
            "  inflating: mit-bih-arrhythmia-database-1.0.0/205.dat  \n",
            "  inflating: mit-bih-arrhythmia-database-1.0.0/205.hea  \n",
            "  inflating: mit-bih-arrhythmia-database-1.0.0/205.xws  \n",
            "  inflating: mit-bih-arrhythmia-database-1.0.0/207.atr  \n",
            "  inflating: mit-bih-arrhythmia-database-1.0.0/207.dat  \n",
            "  inflating: mit-bih-arrhythmia-database-1.0.0/207.hea  \n",
            "  inflating: mit-bih-arrhythmia-database-1.0.0/207.xws  \n",
            "  inflating: mit-bih-arrhythmia-database-1.0.0/208.atr  \n",
            "  inflating: mit-bih-arrhythmia-database-1.0.0/208.dat  \n",
            "  inflating: mit-bih-arrhythmia-database-1.0.0/208.hea  \n",
            "  inflating: mit-bih-arrhythmia-database-1.0.0/208.xws  \n",
            "  inflating: mit-bih-arrhythmia-database-1.0.0/209.at_  \n",
            "  inflating: mit-bih-arrhythmia-database-1.0.0/209.atr  \n",
            "  inflating: mit-bih-arrhythmia-database-1.0.0/209.dat  \n",
            "  inflating: mit-bih-arrhythmia-database-1.0.0/209.hea  \n",
            "  inflating: mit-bih-arrhythmia-database-1.0.0/209.xws  \n",
            "  inflating: mit-bih-arrhythmia-database-1.0.0/210.atr  \n",
            "  inflating: mit-bih-arrhythmia-database-1.0.0/210.dat  \n",
            "  inflating: mit-bih-arrhythmia-database-1.0.0/210.hea  \n",
            "  inflating: mit-bih-arrhythmia-database-1.0.0/210.xws  \n",
            "  inflating: mit-bih-arrhythmia-database-1.0.0/212.atr  \n",
            "  inflating: mit-bih-arrhythmia-database-1.0.0/212.dat  \n",
            "  inflating: mit-bih-arrhythmia-database-1.0.0/212.hea  \n",
            "  inflating: mit-bih-arrhythmia-database-1.0.0/212.xws  \n",
            "  inflating: mit-bih-arrhythmia-database-1.0.0/213.atr  \n",
            "  inflating: mit-bih-arrhythmia-database-1.0.0/213.dat  \n",
            "  inflating: mit-bih-arrhythmia-database-1.0.0/213.hea  \n",
            "  inflating: mit-bih-arrhythmia-database-1.0.0/213.xws  \n",
            "  inflating: mit-bih-arrhythmia-database-1.0.0/214.at_  \n",
            "  inflating: mit-bih-arrhythmia-database-1.0.0/214.atr  \n",
            "  inflating: mit-bih-arrhythmia-database-1.0.0/214.dat  \n",
            "  inflating: mit-bih-arrhythmia-database-1.0.0/214.hea  \n",
            "  inflating: mit-bih-arrhythmia-database-1.0.0/214.xws  \n",
            "  inflating: mit-bih-arrhythmia-database-1.0.0/215.at_  \n",
            "  inflating: mit-bih-arrhythmia-database-1.0.0/215.atr  \n",
            "  inflating: mit-bih-arrhythmia-database-1.0.0/215.dat  \n",
            "  inflating: mit-bih-arrhythmia-database-1.0.0/215.hea  \n",
            "  inflating: mit-bih-arrhythmia-database-1.0.0/215.xws  \n",
            "  inflating: mit-bih-arrhythmia-database-1.0.0/217.atr  \n",
            "  inflating: mit-bih-arrhythmia-database-1.0.0/217.dat  \n",
            "  inflating: mit-bih-arrhythmia-database-1.0.0/217.hea  \n",
            "  inflating: mit-bih-arrhythmia-database-1.0.0/217.xws  \n",
            "  inflating: mit-bih-arrhythmia-database-1.0.0/219.atr  \n",
            "  inflating: mit-bih-arrhythmia-database-1.0.0/219.dat  \n",
            "  inflating: mit-bih-arrhythmia-database-1.0.0/219.hea  \n",
            "  inflating: mit-bih-arrhythmia-database-1.0.0/219.xws  \n",
            "  inflating: mit-bih-arrhythmia-database-1.0.0/220.atr  \n",
            "  inflating: mit-bih-arrhythmia-database-1.0.0/220.dat  \n",
            "  inflating: mit-bih-arrhythmia-database-1.0.0/220.hea  \n",
            "  inflating: mit-bih-arrhythmia-database-1.0.0/220.xws  \n",
            "  inflating: mit-bih-arrhythmia-database-1.0.0/221.atr  \n",
            "  inflating: mit-bih-arrhythmia-database-1.0.0/221.dat  \n",
            "  inflating: mit-bih-arrhythmia-database-1.0.0/221.hea  \n",
            "  inflating: mit-bih-arrhythmia-database-1.0.0/221.xws  \n",
            "  inflating: mit-bih-arrhythmia-database-1.0.0/222.at_  \n",
            "  inflating: mit-bih-arrhythmia-database-1.0.0/222.atr  \n",
            "  inflating: mit-bih-arrhythmia-database-1.0.0/222.dat  \n",
            "  inflating: mit-bih-arrhythmia-database-1.0.0/222.hea  \n",
            "  inflating: mit-bih-arrhythmia-database-1.0.0/222.xws  \n",
            "  inflating: mit-bih-arrhythmia-database-1.0.0/223.atr  \n",
            "  inflating: mit-bih-arrhythmia-database-1.0.0/223.dat  \n",
            "  inflating: mit-bih-arrhythmia-database-1.0.0/223.hea  \n",
            "  inflating: mit-bih-arrhythmia-database-1.0.0/223.xws  \n",
            "  inflating: mit-bih-arrhythmia-database-1.0.0/228.atr  \n",
            "  inflating: mit-bih-arrhythmia-database-1.0.0/228.dat  \n",
            "  inflating: mit-bih-arrhythmia-database-1.0.0/228.hea  \n",
            "  inflating: mit-bih-arrhythmia-database-1.0.0/228.xws  \n",
            "  inflating: mit-bih-arrhythmia-database-1.0.0/230.atr  \n",
            "  inflating: mit-bih-arrhythmia-database-1.0.0/230.dat  \n",
            "  inflating: mit-bih-arrhythmia-database-1.0.0/230.hea  \n",
            "  inflating: mit-bih-arrhythmia-database-1.0.0/230.xws  \n",
            "  inflating: mit-bih-arrhythmia-database-1.0.0/231.atr  \n",
            "  inflating: mit-bih-arrhythmia-database-1.0.0/231.dat  \n",
            "  inflating: mit-bih-arrhythmia-database-1.0.0/231.hea  \n",
            "  inflating: mit-bih-arrhythmia-database-1.0.0/231.xws  \n",
            "  inflating: mit-bih-arrhythmia-database-1.0.0/232.atr  \n",
            "  inflating: mit-bih-arrhythmia-database-1.0.0/232.dat  \n",
            "  inflating: mit-bih-arrhythmia-database-1.0.0/232.hea  \n",
            "  inflating: mit-bih-arrhythmia-database-1.0.0/232.xws  \n",
            "  inflating: mit-bih-arrhythmia-database-1.0.0/233.atr  \n",
            "  inflating: mit-bih-arrhythmia-database-1.0.0/233.dat  \n",
            "  inflating: mit-bih-arrhythmia-database-1.0.0/233.hea  \n",
            "  inflating: mit-bih-arrhythmia-database-1.0.0/233.xws  \n",
            "  inflating: mit-bih-arrhythmia-database-1.0.0/234.atr  \n",
            "  inflating: mit-bih-arrhythmia-database-1.0.0/234.dat  \n",
            "  inflating: mit-bih-arrhythmia-database-1.0.0/234.hea  \n",
            "  inflating: mit-bih-arrhythmia-database-1.0.0/234.xws  \n",
            " extracting: mit-bih-arrhythmia-database-1.0.0/ANNOTATORS  \n",
            "  inflating: mit-bih-arrhythmia-database-1.0.0/RECORDS  \n",
            "  inflating: mit-bih-arrhythmia-database-1.0.0/SHA256SUMS.txt  \n",
            "  inflating: mit-bih-arrhythmia-database-1.0.0/mitdbdir/foreword.htm  \n",
            "  inflating: mit-bih-arrhythmia-database-1.0.0/mitdbdir/intro.htm  \n",
            "  inflating: mit-bih-arrhythmia-database-1.0.0/mitdbdir/mitdbdir.htm  \n",
            "  inflating: mit-bih-arrhythmia-database-1.0.0/mitdbdir/records.htm  \n",
            " extracting: mit-bih-arrhythmia-database-1.0.0/mitdbdir/samples/1001103.xws  \n",
            " extracting: mit-bih-arrhythmia-database-1.0.0/mitdbdir/samples/1002513.xws  \n",
            " extracting: mit-bih-arrhythmia-database-1.0.0/mitdbdir/samples/1002609.xws  \n",
            " extracting: mit-bih-arrhythmia-database-1.0.0/mitdbdir/samples/1002755.xws  \n",
            " extracting: mit-bih-arrhythmia-database-1.0.0/mitdbdir/samples/1010134.xws  \n",
            " extracting: mit-bih-arrhythmia-database-1.0.0/mitdbdir/samples/1010148.xws  \n",
            " extracting: mit-bih-arrhythmia-database-1.0.0/mitdbdir/samples/1010513.xws  \n",
            " extracting: mit-bih-arrhythmia-database-1.0.0/mitdbdir/samples/1010954.xws  \n",
            " extracting: mit-bih-arrhythmia-database-1.0.0/mitdbdir/samples/1012432.xws  \n",
            " extracting: mit-bih-arrhythmia-database-1.0.0/mitdbdir/samples/1020055.xws  \n",
            " extracting: mit-bih-arrhythmia-database-1.0.0/mitdbdir/samples/1020112.xws  \n",
            " extracting: mit-bih-arrhythmia-database-1.0.0/mitdbdir/samples/1020128.xws  \n",
            " extracting: mit-bih-arrhythmia-database-1.0.0/mitdbdir/samples/1020230.xws  \n",
            " extracting: mit-bih-arrhythmia-database-1.0.0/mitdbdir/samples/1020451.xws  \n",
            " extracting: mit-bih-arrhythmia-database-1.0.0/mitdbdir/samples/1020935.xws  \n",
            " extracting: mit-bih-arrhythmia-database-1.0.0/mitdbdir/samples/1021612.xws  \n",
            " extracting: mit-bih-arrhythmia-database-1.0.0/mitdbdir/samples/1030109.xws  \n",
            " extracting: mit-bih-arrhythmia-database-1.0.0/mitdbdir/samples/1031721.xws  \n",
            " extracting: mit-bih-arrhythmia-database-1.0.0/mitdbdir/samples/1031915.xws  \n",
            " extracting: mit-bih-arrhythmia-database-1.0.0/mitdbdir/samples/1032213.xws  \n",
            " extracting: mit-bih-arrhythmia-database-1.0.0/mitdbdir/samples/1032333.xws  \n",
            " extracting: mit-bih-arrhythmia-database-1.0.0/mitdbdir/samples/1032858.xws  \n",
            " extracting: mit-bih-arrhythmia-database-1.0.0/mitdbdir/samples/1040342.xws  \n",
            " extracting: mit-bih-arrhythmia-database-1.0.0/mitdbdir/samples/1040513.xws  \n",
            " extracting: mit-bih-arrhythmia-database-1.0.0/mitdbdir/samples/1040552.xws  \n",
            " extracting: mit-bih-arrhythmia-database-1.0.0/mitdbdir/samples/1040617.xws  \n",
            " extracting: mit-bih-arrhythmia-database-1.0.0/mitdbdir/samples/1040822.xws  \n",
            " extracting: mit-bih-arrhythmia-database-1.0.0/mitdbdir/samples/1042651.xws  \n",
            " extracting: mit-bih-arrhythmia-database-1.0.0/mitdbdir/samples/1042910.xws  \n",
            " extracting: mit-bih-arrhythmia-database-1.0.0/mitdbdir/samples/1050527.xws  \n",
            " extracting: mit-bih-arrhythmia-database-1.0.0/mitdbdir/samples/1050757.xws  \n",
            " extracting: mit-bih-arrhythmia-database-1.0.0/mitdbdir/samples/1051516.xws  \n",
            " extracting: mit-bih-arrhythmia-database-1.0.0/mitdbdir/samples/1051752.xws  \n",
            " extracting: mit-bih-arrhythmia-database-1.0.0/mitdbdir/samples/1052202.xws  \n",
            " extracting: mit-bih-arrhythmia-database-1.0.0/mitdbdir/samples/1052645.xws  \n",
            " extracting: mit-bih-arrhythmia-database-1.0.0/mitdbdir/samples/1052727.xws  \n",
            " extracting: mit-bih-arrhythmia-database-1.0.0/mitdbdir/samples/1052808.xws  \n",
            " extracting: mit-bih-arrhythmia-database-1.0.0/mitdbdir/samples/1052907.xws  \n",
            " extracting: mit-bih-arrhythmia-database-1.0.0/mitdbdir/samples/1060019.xws  \n",
            " extracting: mit-bih-arrhythmia-database-1.0.0/mitdbdir/samples/1060137.xws  \n",
            " extracting: mit-bih-arrhythmia-database-1.0.0/mitdbdir/samples/1060253.xws  \n",
            " extracting: mit-bih-arrhythmia-database-1.0.0/mitdbdir/samples/1060423.xws  \n",
            " extracting: mit-bih-arrhythmia-database-1.0.0/mitdbdir/samples/1060757.xws  \n",
            " extracting: mit-bih-arrhythmia-database-1.0.0/mitdbdir/samples/1061052.xws  \n",
            " extracting: mit-bih-arrhythmia-database-1.0.0/mitdbdir/samples/1061227.xws  \n",
            " extracting: mit-bih-arrhythmia-database-1.0.0/mitdbdir/samples/1061617.xws  \n",
            " extracting: mit-bih-arrhythmia-database-1.0.0/mitdbdir/samples/1062513.xws  \n",
            " extracting: mit-bih-arrhythmia-database-1.0.0/mitdbdir/samples/1062552.xws  \n",
            " extracting: mit-bih-arrhythmia-database-1.0.0/mitdbdir/samples/1070044.xws  \n",
            " extracting: mit-bih-arrhythmia-database-1.0.0/mitdbdir/samples/1071230.xws  \n",
            " extracting: mit-bih-arrhythmia-database-1.0.0/mitdbdir/samples/1071954.xws  \n",
            " extracting: mit-bih-arrhythmia-database-1.0.0/mitdbdir/samples/1072038.xws  \n",
            " extracting: mit-bih-arrhythmia-database-1.0.0/mitdbdir/samples/1072552.xws  \n",
            " extracting: mit-bih-arrhythmia-database-1.0.0/mitdbdir/samples/1080022.xws  \n",
            " extracting: mit-bih-arrhythmia-database-1.0.0/mitdbdir/samples/1080451.xws  \n",
            " extracting: mit-bih-arrhythmia-database-1.0.0/mitdbdir/samples/1080741.xws  \n",
            " extracting: mit-bih-arrhythmia-database-1.0.0/mitdbdir/samples/1080813.xws  \n",
            " extracting: mit-bih-arrhythmia-database-1.0.0/mitdbdir/samples/1081055.xws  \n",
            "  inflating: mit-bih-arrhythmia-database-1.0.0/mitdbdir/samples/1081808.xws  \n",
            " extracting: mit-bih-arrhythmia-database-1.0.0/mitdbdir/samples/1082005.xws  \n",
            " extracting: mit-bih-arrhythmia-database-1.0.0/mitdbdir/samples/1082420.xws  \n",
            " extracting: mit-bih-arrhythmia-database-1.0.0/mitdbdir/samples/1082810.xws  \n",
            " extracting: mit-bih-arrhythmia-database-1.0.0/mitdbdir/samples/1082900.xws  \n",
            " extracting: mit-bih-arrhythmia-database-1.0.0/mitdbdir/samples/1090013.xws  \n",
            " extracting: mit-bih-arrhythmia-database-1.0.0/mitdbdir/samples/1090128.xws  \n",
            " extracting: mit-bih-arrhythmia-database-1.0.0/mitdbdir/samples/1090336.xws  \n",
            " extracting: mit-bih-arrhythmia-database-1.0.0/mitdbdir/samples/1090446.xws  \n",
            " extracting: mit-bih-arrhythmia-database-1.0.0/mitdbdir/samples/1090527.xws  \n",
            " extracting: mit-bih-arrhythmia-database-1.0.0/mitdbdir/samples/1091401.xws  \n",
            " extracting: mit-bih-arrhythmia-database-1.0.0/mitdbdir/samples/1091713.xws  \n",
            " extracting: mit-bih-arrhythmia-database-1.0.0/mitdbdir/samples/1091921.xws  \n",
            "  inflating: mit-bih-arrhythmia-database-1.0.0/mitdbdir/samples/1092609.xws  \n",
            " extracting: mit-bih-arrhythmia-database-1.0.0/mitdbdir/samples/1092803.xws  \n",
            " extracting: mit-bih-arrhythmia-database-1.0.0/mitdbdir/samples/1092828.xws  \n",
            " extracting: mit-bih-arrhythmia-database-1.0.0/mitdbdir/samples/1092910.xws  \n",
            " extracting: mit-bih-arrhythmia-database-1.0.0/mitdbdir/samples/1110025.xws  \n",
            " extracting: mit-bih-arrhythmia-database-1.0.0/mitdbdir/samples/1110241.xws  \n",
            " extracting: mit-bih-arrhythmia-database-1.0.0/mitdbdir/samples/1110352.xws  \n",
            " extracting: mit-bih-arrhythmia-database-1.0.0/mitdbdir/samples/1110404.xws  \n",
            " extracting: mit-bih-arrhythmia-database-1.0.0/mitdbdir/samples/1110831.xws  \n",
            " extracting: mit-bih-arrhythmia-database-1.0.0/mitdbdir/samples/1111153.xws  \n",
            " extracting: mit-bih-arrhythmia-database-1.0.0/mitdbdir/samples/1111541.xws  \n",
            " extracting: mit-bih-arrhythmia-database-1.0.0/mitdbdir/samples/1111954.xws  \n",
            " extracting: mit-bih-arrhythmia-database-1.0.0/mitdbdir/samples/1112702.xws  \n",
            " extracting: mit-bih-arrhythmia-database-1.0.0/mitdbdir/samples/1121140.xws  \n",
            " extracting: mit-bih-arrhythmia-database-1.0.0/mitdbdir/samples/1121230.xws  \n",
            " extracting: mit-bih-arrhythmia-database-1.0.0/mitdbdir/samples/1121249.xws  \n",
            " extracting: mit-bih-arrhythmia-database-1.0.0/mitdbdir/samples/1130420.xws  \n",
            " extracting: mit-bih-arrhythmia-database-1.0.0/mitdbdir/samples/1130822.xws  \n",
            " extracting: mit-bih-arrhythmia-database-1.0.0/mitdbdir/samples/1131148.xws  \n",
            " extracting: mit-bih-arrhythmia-database-1.0.0/mitdbdir/samples/1131227.xws  \n",
            " extracting: mit-bih-arrhythmia-database-1.0.0/mitdbdir/samples/1132210.xws  \n",
            " extracting: mit-bih-arrhythmia-database-1.0.0/mitdbdir/samples/1132901.xws  \n",
            " extracting: mit-bih-arrhythmia-database-1.0.0/mitdbdir/samples/1140000.xws  \n",
            " extracting: mit-bih-arrhythmia-database-1.0.0/mitdbdir/samples/1140120.xws  \n",
            " extracting: mit-bih-arrhythmia-database-1.0.0/mitdbdir/samples/1140339.xws  \n",
            " extracting: mit-bih-arrhythmia-database-1.0.0/mitdbdir/samples/1140356.xws  \n",
            " extracting: mit-bih-arrhythmia-database-1.0.0/mitdbdir/samples/1140435.xws  \n",
            " extracting: mit-bih-arrhythmia-database-1.0.0/mitdbdir/samples/1140536.xws  \n",
            " extracting: mit-bih-arrhythmia-database-1.0.0/mitdbdir/samples/1140831.xws  \n",
            " extracting: mit-bih-arrhythmia-database-1.0.0/mitdbdir/samples/1140926.xws  \n",
            " extracting: mit-bih-arrhythmia-database-1.0.0/mitdbdir/samples/1141137.xws  \n",
            " extracting: mit-bih-arrhythmia-database-1.0.0/mitdbdir/samples/1142002.xws  \n",
            " extracting: mit-bih-arrhythmia-database-1.0.0/mitdbdir/samples/1142929.xws  \n",
            " extracting: mit-bih-arrhythmia-database-1.0.0/mitdbdir/samples/1150055.xws  \n",
            " extracting: mit-bih-arrhythmia-database-1.0.0/mitdbdir/samples/1150322.xws  \n",
            " extracting: mit-bih-arrhythmia-database-1.0.0/mitdbdir/samples/1151552.xws  \n",
            " extracting: mit-bih-arrhythmia-database-1.0.0/mitdbdir/samples/1152128.xws  \n",
            " extracting: mit-bih-arrhythmia-database-1.0.0/mitdbdir/samples/1152705.xws  \n",
            " extracting: mit-bih-arrhythmia-database-1.0.0/mitdbdir/samples/1152842.xws  \n",
            " extracting: mit-bih-arrhythmia-database-1.0.0/mitdbdir/samples/1160044.xws  \n",
            " extracting: mit-bih-arrhythmia-database-1.0.0/mitdbdir/samples/1160131.xws  \n",
            " extracting: mit-bih-arrhythmia-database-1.0.0/mitdbdir/samples/1161000.xws  \n",
            " extracting: mit-bih-arrhythmia-database-1.0.0/mitdbdir/samples/1161232.xws  \n",
            " extracting: mit-bih-arrhythmia-database-1.0.0/mitdbdir/samples/1161637.xws  \n",
            " extracting: mit-bih-arrhythmia-database-1.0.0/mitdbdir/samples/1162308.xws  \n",
            " extracting: mit-bih-arrhythmia-database-1.0.0/mitdbdir/samples/1162547.xws  \n",
            " extracting: mit-bih-arrhythmia-database-1.0.0/mitdbdir/samples/1170356.xws  \n",
            " extracting: mit-bih-arrhythmia-database-1.0.0/mitdbdir/samples/1171158.xws  \n",
            " extracting: mit-bih-arrhythmia-database-1.0.0/mitdbdir/samples/1172227.xws  \n",
            " extracting: mit-bih-arrhythmia-database-1.0.0/mitdbdir/samples/1180339.xws  \n",
            " extracting: mit-bih-arrhythmia-database-1.0.0/mitdbdir/samples/1180831.xws  \n",
            " extracting: mit-bih-arrhythmia-database-1.0.0/mitdbdir/samples/1180923.xws  \n",
            " extracting: mit-bih-arrhythmia-database-1.0.0/mitdbdir/samples/1181347.xws  \n",
            " extracting: mit-bih-arrhythmia-database-1.0.0/mitdbdir/samples/1182232.xws  \n",
            " extracting: mit-bih-arrhythmia-database-1.0.0/mitdbdir/samples/1182325.xws  \n",
            " extracting: mit-bih-arrhythmia-database-1.0.0/mitdbdir/samples/1182541.xws  \n",
            " extracting: mit-bih-arrhythmia-database-1.0.0/mitdbdir/samples/1182623.xws  \n",
            " extracting: mit-bih-arrhythmia-database-1.0.0/mitdbdir/samples/1182648.xws  \n",
            " extracting: mit-bih-arrhythmia-database-1.0.0/mitdbdir/samples/1182858.xws  \n",
            " extracting: mit-bih-arrhythmia-database-1.0.0/mitdbdir/samples/1182953.xws  \n",
            " extracting: mit-bih-arrhythmia-database-1.0.0/mitdbdir/samples/1190155.xws  \n",
            " extracting: mit-bih-arrhythmia-database-1.0.0/mitdbdir/samples/1190238.xws  \n",
            " extracting: mit-bih-arrhythmia-database-1.0.0/mitdbdir/samples/1190451.xws  \n",
            " extracting: mit-bih-arrhythmia-database-1.0.0/mitdbdir/samples/1190842.xws  \n",
            " extracting: mit-bih-arrhythmia-database-1.0.0/mitdbdir/samples/1192005.xws  \n",
            " extracting: mit-bih-arrhythmia-database-1.0.0/mitdbdir/samples/1192533.xws  \n",
            " extracting: mit-bih-arrhythmia-database-1.0.0/mitdbdir/samples/1210106.xws  \n",
            " extracting: mit-bih-arrhythmia-database-1.0.0/mitdbdir/samples/1210333.xws  \n",
            " extracting: mit-bih-arrhythmia-database-1.0.0/mitdbdir/samples/1211648.xws  \n",
            " extracting: mit-bih-arrhythmia-database-1.0.0/mitdbdir/samples/1212432.xws  \n",
            " extracting: mit-bih-arrhythmia-database-1.0.0/mitdbdir/samples/1212601.xws  \n",
            " extracting: mit-bih-arrhythmia-database-1.0.0/mitdbdir/samples/1220109.xws  \n",
            " extracting: mit-bih-arrhythmia-database-1.0.0/mitdbdir/samples/1221347.xws  \n",
            " extracting: mit-bih-arrhythmia-database-1.0.0/mitdbdir/samples/1222825.xws  \n",
            " extracting: mit-bih-arrhythmia-database-1.0.0/mitdbdir/samples/1232210.xws  \n",
            " extracting: mit-bih-arrhythmia-database-1.0.0/mitdbdir/samples/1232511.xws  \n",
            " extracting: mit-bih-arrhythmia-database-1.0.0/mitdbdir/samples/1232741.xws  \n",
            " extracting: mit-bih-arrhythmia-database-1.0.0/mitdbdir/samples/1232836.xws  \n",
            " extracting: mit-bih-arrhythmia-database-1.0.0/mitdbdir/samples/1240443.xws  \n",
            " extracting: mit-bih-arrhythmia-database-1.0.0/mitdbdir/samples/1240509.xws  \n",
            " extracting: mit-bih-arrhythmia-database-1.0.0/mitdbdir/samples/1240521.xws  \n",
            " extracting: mit-bih-arrhythmia-database-1.0.0/mitdbdir/samples/1240905.xws  \n",
            " extracting: mit-bih-arrhythmia-database-1.0.0/mitdbdir/samples/1241027.xws  \n",
            " extracting: mit-bih-arrhythmia-database-1.0.0/mitdbdir/samples/1241738.xws  \n",
            " extracting: mit-bih-arrhythmia-database-1.0.0/mitdbdir/samples/1242013.xws  \n",
            " extracting: mit-bih-arrhythmia-database-1.0.0/mitdbdir/samples/1242322.xws  \n",
            " extracting: mit-bih-arrhythmia-database-1.0.0/mitdbdir/samples/1242603.xws  \n",
            " extracting: mit-bih-arrhythmia-database-1.0.0/mitdbdir/samples/1242741.xws  \n",
            " extracting: mit-bih-arrhythmia-database-1.0.0/mitdbdir/samples/2000142.xws  \n",
            " extracting: mit-bih-arrhythmia-database-1.0.0/mitdbdir/samples/2000538.xws  \n",
            " extracting: mit-bih-arrhythmia-database-1.0.0/mitdbdir/samples/2001814.xws  \n",
            " extracting: mit-bih-arrhythmia-database-1.0.0/mitdbdir/samples/2002052.xws  \n",
            " extracting: mit-bih-arrhythmia-database-1.0.0/mitdbdir/samples/2002449.xws  \n",
            " extracting: mit-bih-arrhythmia-database-1.0.0/mitdbdir/samples/2002612.xws  \n",
            " extracting: mit-bih-arrhythmia-database-1.0.0/mitdbdir/samples/2002831.xws  \n",
            " extracting: mit-bih-arrhythmia-database-1.0.0/mitdbdir/samples/2002901.xws  \n",
            " extracting: mit-bih-arrhythmia-database-1.0.0/mitdbdir/samples/2002918.xws  \n",
            " extracting: mit-bih-arrhythmia-database-1.0.0/mitdbdir/samples/2002951.xws  \n",
            " extracting: mit-bih-arrhythmia-database-1.0.0/mitdbdir/samples/2010000.xws  \n",
            " extracting: mit-bih-arrhythmia-database-1.0.0/mitdbdir/samples/2010615.xws  \n",
            " extracting: mit-bih-arrhythmia-database-1.0.0/mitdbdir/samples/2010752.xws  \n",
            " extracting: mit-bih-arrhythmia-database-1.0.0/mitdbdir/samples/2010853.xws  \n",
            " extracting: mit-bih-arrhythmia-database-1.0.0/mitdbdir/samples/2011814.xws  \n",
            " extracting: mit-bih-arrhythmia-database-1.0.0/mitdbdir/samples/2012016.xws  \n",
            " extracting: mit-bih-arrhythmia-database-1.0.0/mitdbdir/samples/2012233.xws  \n",
            " extracting: mit-bih-arrhythmia-database-1.0.0/mitdbdir/samples/2012350.xws  \n",
            " extracting: mit-bih-arrhythmia-database-1.0.0/mitdbdir/samples/2012415.xws  \n",
            " extracting: mit-bih-arrhythmia-database-1.0.0/mitdbdir/samples/2012519.xws  \n",
            " extracting: mit-bih-arrhythmia-database-1.0.0/mitdbdir/samples/2012620.xws  \n",
            " extracting: mit-bih-arrhythmia-database-1.0.0/mitdbdir/samples/2012803.xws  \n",
            " extracting: mit-bih-arrhythmia-database-1.0.0/mitdbdir/samples/2021016.xws  \n",
            " extracting: mit-bih-arrhythmia-database-1.0.0/mitdbdir/samples/2021224.xws  \n",
            " extracting: mit-bih-arrhythmia-database-1.0.0/mitdbdir/samples/2021241.xws  \n",
            " extracting: mit-bih-arrhythmia-database-1.0.0/mitdbdir/samples/2021822.xws  \n",
            " extracting: mit-bih-arrhythmia-database-1.0.0/mitdbdir/samples/2021845.xws  \n",
            " extracting: mit-bih-arrhythmia-database-1.0.0/mitdbdir/samples/2021859.xws  \n",
            " extracting: mit-bih-arrhythmia-database-1.0.0/mitdbdir/samples/2022110.xws  \n",
            " extracting: mit-bih-arrhythmia-database-1.0.0/mitdbdir/samples/2022126.xws  \n",
            " extracting: mit-bih-arrhythmia-database-1.0.0/mitdbdir/samples/2022213.xws  \n",
            " extracting: mit-bih-arrhythmia-database-1.0.0/mitdbdir/samples/2022558.xws  \n",
            " extracting: mit-bih-arrhythmia-database-1.0.0/mitdbdir/samples/2022755.xws  \n",
            " extracting: mit-bih-arrhythmia-database-1.0.0/mitdbdir/samples/2022935.xws  \n",
            " extracting: mit-bih-arrhythmia-database-1.0.0/mitdbdir/samples/2030500.xws  \n",
            " extracting: mit-bih-arrhythmia-database-1.0.0/mitdbdir/samples/2031314.xws  \n",
            " extracting: mit-bih-arrhythmia-database-1.0.0/mitdbdir/samples/2031502.xws  \n",
            " extracting: mit-bih-arrhythmia-database-1.0.0/mitdbdir/samples/2032202.xws  \n",
            " extracting: mit-bih-arrhythmia-database-1.0.0/mitdbdir/samples/2032325.xws  \n",
            " extracting: mit-bih-arrhythmia-database-1.0.0/mitdbdir/samples/2032404.xws  \n",
            " extracting: mit-bih-arrhythmia-database-1.0.0/mitdbdir/samples/2032446.xws  \n",
            " extracting: mit-bih-arrhythmia-database-1.0.0/mitdbdir/samples/2032639.xws  \n",
            " extracting: mit-bih-arrhythmia-database-1.0.0/mitdbdir/samples/2032651.xws  \n",
            " extracting: mit-bih-arrhythmia-database-1.0.0/mitdbdir/samples/2032715.xws  \n",
            " extracting: mit-bih-arrhythmia-database-1.0.0/mitdbdir/samples/2050457.xws  \n",
            " extracting: mit-bih-arrhythmia-database-1.0.0/mitdbdir/samples/2051454.xws  \n",
            " extracting: mit-bih-arrhythmia-database-1.0.0/mitdbdir/samples/2051522.xws  \n",
            " extracting: mit-bih-arrhythmia-database-1.0.0/mitdbdir/samples/2051603.xws  \n",
            " extracting: mit-bih-arrhythmia-database-1.0.0/mitdbdir/samples/2051615.xws  \n",
            " extracting: mit-bih-arrhythmia-database-1.0.0/mitdbdir/samples/2051957.xws  \n",
            " extracting: mit-bih-arrhythmia-database-1.0.0/mitdbdir/samples/2052418.xws  \n",
            " extracting: mit-bih-arrhythmia-database-1.0.0/mitdbdir/samples/2052430.xws  \n",
            " extracting: mit-bih-arrhythmia-database-1.0.0/mitdbdir/samples/2052757.xws  \n",
            " extracting: mit-bih-arrhythmia-database-1.0.0/mitdbdir/samples/2070000.xws  \n",
            " extracting: mit-bih-arrhythmia-database-1.0.0/mitdbdir/samples/2070033.xws  \n",
            " extracting: mit-bih-arrhythmia-database-1.0.0/mitdbdir/samples/2070045.xws  \n",
            " extracting: mit-bih-arrhythmia-database-1.0.0/mitdbdir/samples/2070057.xws  \n",
            " extracting: mit-bih-arrhythmia-database-1.0.0/mitdbdir/samples/2070128.xws  \n",
            "  inflating: mit-bih-arrhythmia-database-1.0.0/mitdbdir/samples/2070207.xws  \n",
            " extracting: mit-bih-arrhythmia-database-1.0.0/mitdbdir/samples/2070241.xws  \n",
            " extracting: mit-bih-arrhythmia-database-1.0.0/mitdbdir/samples/2070425.xws  \n",
            " extracting: mit-bih-arrhythmia-database-1.0.0/mitdbdir/samples/2070519.xws  \n",
            " extracting: mit-bih-arrhythmia-database-1.0.0/mitdbdir/samples/2070656.xws  \n",
            " extracting: mit-bih-arrhythmia-database-1.0.0/mitdbdir/samples/2071735.xws  \n",
            " extracting: mit-bih-arrhythmia-database-1.0.0/mitdbdir/samples/2072536.xws  \n",
            " extracting: mit-bih-arrhythmia-database-1.0.0/mitdbdir/samples/2072610.xws  \n",
            " extracting: mit-bih-arrhythmia-database-1.0.0/mitdbdir/samples/2072714.xws  \n",
            " extracting: mit-bih-arrhythmia-database-1.0.0/mitdbdir/samples/2072910.xws  \n",
            " extracting: mit-bih-arrhythmia-database-1.0.0/mitdbdir/samples/2081457.xws  \n",
            " extracting: mit-bih-arrhythmia-database-1.0.0/mitdbdir/samples/2081702.xws  \n",
            " extracting: mit-bih-arrhythmia-database-1.0.0/mitdbdir/samples/2081910.xws  \n",
            " extracting: mit-bih-arrhythmia-database-1.0.0/mitdbdir/samples/2082106.xws  \n",
            " extracting: mit-bih-arrhythmia-database-1.0.0/mitdbdir/samples/2082300.xws  \n",
            "  inflating: mit-bih-arrhythmia-database-1.0.0/mitdbdir/samples/2082808.xws  \n",
            " extracting: mit-bih-arrhythmia-database-1.0.0/mitdbdir/samples/2082858.xws  \n",
            " extracting: mit-bih-arrhythmia-database-1.0.0/mitdbdir/samples/2082937.xws  \n",
            " extracting: mit-bih-arrhythmia-database-1.0.0/mitdbdir/samples/2090047.xws  \n",
            " extracting: mit-bih-arrhythmia-database-1.0.0/mitdbdir/samples/2090550.xws  \n",
            " extracting: mit-bih-arrhythmia-database-1.0.0/mitdbdir/samples/2091257.xws  \n",
            " extracting: mit-bih-arrhythmia-database-1.0.0/mitdbdir/samples/2091421.xws  \n",
            " extracting: mit-bih-arrhythmia-database-1.0.0/mitdbdir/samples/2092325.xws  \n",
            " extracting: mit-bih-arrhythmia-database-1.0.0/mitdbdir/samples/2092817.xws  \n",
            " extracting: mit-bih-arrhythmia-database-1.0.0/mitdbdir/samples/2092833.xws  \n",
            " extracting: mit-bih-arrhythmia-database-1.0.0/mitdbdir/samples/2092910.xws  \n",
            " extracting: mit-bih-arrhythmia-database-1.0.0/mitdbdir/samples/2100347.xws  \n",
            " extracting: mit-bih-arrhythmia-database-1.0.0/mitdbdir/samples/2100656.xws  \n",
            " extracting: mit-bih-arrhythmia-database-1.0.0/mitdbdir/samples/2101314.xws  \n",
            " extracting: mit-bih-arrhythmia-database-1.0.0/mitdbdir/samples/2101555.xws  \n",
            " extracting: mit-bih-arrhythmia-database-1.0.0/mitdbdir/samples/2101732.xws  \n",
            " extracting: mit-bih-arrhythmia-database-1.0.0/mitdbdir/samples/2101757.xws  \n",
            " extracting: mit-bih-arrhythmia-database-1.0.0/mitdbdir/samples/2102033.xws  \n",
            " extracting: mit-bih-arrhythmia-database-1.0.0/mitdbdir/samples/2102915.xws  \n",
            " extracting: mit-bih-arrhythmia-database-1.0.0/mitdbdir/samples/2120005.xws  \n",
            " extracting: mit-bih-arrhythmia-database-1.0.0/mitdbdir/samples/2121842.xws  \n",
            " extracting: mit-bih-arrhythmia-database-1.0.0/mitdbdir/samples/2122421.xws  \n",
            " extracting: mit-bih-arrhythmia-database-1.0.0/mitdbdir/samples/2122438.xws  \n",
            " extracting: mit-bih-arrhythmia-database-1.0.0/mitdbdir/samples/2122645.xws  \n",
            " extracting: mit-bih-arrhythmia-database-1.0.0/mitdbdir/samples/2122846.xws  \n",
            " extracting: mit-bih-arrhythmia-database-1.0.0/mitdbdir/samples/2130339.xws  \n",
            " extracting: mit-bih-arrhythmia-database-1.0.0/mitdbdir/samples/2131448.xws  \n",
            " extracting: mit-bih-arrhythmia-database-1.0.0/mitdbdir/samples/2131505.xws  \n",
            " extracting: mit-bih-arrhythmia-database-1.0.0/mitdbdir/samples/2131538.xws  \n",
            " extracting: mit-bih-arrhythmia-database-1.0.0/mitdbdir/samples/2131730.xws  \n",
            " extracting: mit-bih-arrhythmia-database-1.0.0/mitdbdir/samples/2131755.xws  \n",
            " extracting: mit-bih-arrhythmia-database-1.0.0/mitdbdir/samples/2132443.xws  \n",
            " extracting: mit-bih-arrhythmia-database-1.0.0/mitdbdir/samples/2132558.xws  \n",
            " extracting: mit-bih-arrhythmia-database-1.0.0/mitdbdir/samples/2132651.xws  \n",
            " extracting: mit-bih-arrhythmia-database-1.0.0/mitdbdir/samples/2132856.xws  \n",
            " extracting: mit-bih-arrhythmia-database-1.0.0/mitdbdir/samples/2140030.xws  \n",
            " extracting: mit-bih-arrhythmia-database-1.0.0/mitdbdir/samples/2140221.xws  \n",
            " extracting: mit-bih-arrhythmia-database-1.0.0/mitdbdir/samples/2140235.xws  \n",
            " extracting: mit-bih-arrhythmia-database-1.0.0/mitdbdir/samples/2140325.xws  \n",
            " extracting: mit-bih-arrhythmia-database-1.0.0/mitdbdir/samples/2140356.xws  \n",
            " extracting: mit-bih-arrhythmia-database-1.0.0/mitdbdir/samples/2140508.xws  \n",
            " extracting: mit-bih-arrhythmia-database-1.0.0/mitdbdir/samples/2140538.xws  \n",
            " extracting: mit-bih-arrhythmia-database-1.0.0/mitdbdir/samples/2141353.xws  \n",
            " extracting: mit-bih-arrhythmia-database-1.0.0/mitdbdir/samples/2142317.xws  \n",
            " extracting: mit-bih-arrhythmia-database-1.0.0/mitdbdir/samples/2142752.xws  \n",
            " extracting: mit-bih-arrhythmia-database-1.0.0/mitdbdir/samples/2150255.xws  \n",
            " extracting: mit-bih-arrhythmia-database-1.0.0/mitdbdir/samples/2150311.xws  \n",
            " extracting: mit-bih-arrhythmia-database-1.0.0/mitdbdir/samples/2150946.xws  \n",
            " extracting: mit-bih-arrhythmia-database-1.0.0/mitdbdir/samples/2151558.xws  \n",
            " extracting: mit-bih-arrhythmia-database-1.0.0/mitdbdir/samples/2152025.xws  \n",
            " extracting: mit-bih-arrhythmia-database-1.0.0/mitdbdir/samples/2152216.xws  \n",
            " extracting: mit-bih-arrhythmia-database-1.0.0/mitdbdir/samples/2152457.xws  \n",
            " extracting: mit-bih-arrhythmia-database-1.0.0/mitdbdir/samples/2152730.xws  \n",
            " extracting: mit-bih-arrhythmia-database-1.0.0/mitdbdir/samples/2152757.xws  \n",
            " extracting: mit-bih-arrhythmia-database-1.0.0/mitdbdir/samples/2152942.xws  \n",
            " extracting: mit-bih-arrhythmia-database-1.0.0/mitdbdir/samples/2170000.xws  \n",
            " extracting: mit-bih-arrhythmia-database-1.0.0/mitdbdir/samples/2170033.xws  \n",
            " extracting: mit-bih-arrhythmia-database-1.0.0/mitdbdir/samples/2170123.xws  \n",
            " extracting: mit-bih-arrhythmia-database-1.0.0/mitdbdir/samples/2170418.xws  \n",
            " extracting: mit-bih-arrhythmia-database-1.0.0/mitdbdir/samples/2170612.xws  \n",
            " extracting: mit-bih-arrhythmia-database-1.0.0/mitdbdir/samples/2170651.xws  \n",
            " extracting: mit-bih-arrhythmia-database-1.0.0/mitdbdir/samples/2170705.xws  \n",
            " extracting: mit-bih-arrhythmia-database-1.0.0/mitdbdir/samples/2171227.xws  \n",
            " extracting: mit-bih-arrhythmia-database-1.0.0/mitdbdir/samples/2171401.xws  \n",
            " extracting: mit-bih-arrhythmia-database-1.0.0/mitdbdir/samples/2171530.xws  \n",
            " extracting: mit-bih-arrhythmia-database-1.0.0/mitdbdir/samples/2171656.xws  \n",
            " extracting: mit-bih-arrhythmia-database-1.0.0/mitdbdir/samples/2172227.xws  \n",
            " extracting: mit-bih-arrhythmia-database-1.0.0/mitdbdir/samples/2190249.xws  \n",
            " extracting: mit-bih-arrhythmia-database-1.0.0/mitdbdir/samples/2190508.xws  \n",
            " extracting: mit-bih-arrhythmia-database-1.0.0/mitdbdir/samples/2190522.xws  \n",
            " extracting: mit-bih-arrhythmia-database-1.0.0/mitdbdir/samples/2191350.xws  \n",
            " extracting: mit-bih-arrhythmia-database-1.0.0/mitdbdir/samples/2191900.xws  \n",
            " extracting: mit-bih-arrhythmia-database-1.0.0/mitdbdir/samples/2191957.xws  \n",
            " extracting: mit-bih-arrhythmia-database-1.0.0/mitdbdir/samples/2192211.xws  \n",
            " extracting: mit-bih-arrhythmia-database-1.0.0/mitdbdir/samples/2192243.xws  \n",
            " extracting: mit-bih-arrhythmia-database-1.0.0/mitdbdir/samples/2192443.xws  \n",
            " extracting: mit-bih-arrhythmia-database-1.0.0/mitdbdir/samples/2192609.xws  \n",
            " extracting: mit-bih-arrhythmia-database-1.0.0/mitdbdir/samples/2192855.xws  \n",
            " extracting: mit-bih-arrhythmia-database-1.0.0/mitdbdir/samples/2200646.xws  \n",
            " extracting: mit-bih-arrhythmia-database-1.0.0/mitdbdir/samples/2201041.xws  \n",
            " extracting: mit-bih-arrhythmia-database-1.0.0/mitdbdir/samples/2201810.xws  \n",
            " extracting: mit-bih-arrhythmia-database-1.0.0/mitdbdir/samples/2202029.xws  \n",
            " extracting: mit-bih-arrhythmia-database-1.0.0/mitdbdir/samples/2202358.xws  \n",
            " extracting: mit-bih-arrhythmia-database-1.0.0/mitdbdir/samples/2202544.xws  \n",
            " extracting: mit-bih-arrhythmia-database-1.0.0/mitdbdir/samples/2202940.xws  \n",
            " extracting: mit-bih-arrhythmia-database-1.0.0/mitdbdir/samples/2210000.xws  \n",
            " extracting: mit-bih-arrhythmia-database-1.0.0/mitdbdir/samples/2210243.xws  \n",
            " extracting: mit-bih-arrhythmia-database-1.0.0/mitdbdir/samples/2211300.xws  \n",
            " extracting: mit-bih-arrhythmia-database-1.0.0/mitdbdir/samples/2211356.xws  \n",
            " extracting: mit-bih-arrhythmia-database-1.0.0/mitdbdir/samples/2211749.xws  \n",
            " extracting: mit-bih-arrhythmia-database-1.0.0/mitdbdir/samples/2211912.xws  \n",
            " extracting: mit-bih-arrhythmia-database-1.0.0/mitdbdir/samples/2211942.xws  \n",
            " extracting: mit-bih-arrhythmia-database-1.0.0/mitdbdir/samples/2212044.xws  \n",
            " extracting: mit-bih-arrhythmia-database-1.0.0/mitdbdir/samples/2220645.xws  \n",
            " extracting: mit-bih-arrhythmia-database-1.0.0/mitdbdir/samples/2221732.xws  \n",
            " extracting: mit-bih-arrhythmia-database-1.0.0/mitdbdir/samples/2221948.xws  \n",
            " extracting: mit-bih-arrhythmia-database-1.0.0/mitdbdir/samples/2222007.xws  \n",
            "  inflating: mit-bih-arrhythmia-database-1.0.0/mitdbdir/samples/2222232.xws  \n",
            " extracting: mit-bih-arrhythmia-database-1.0.0/mitdbdir/samples/2222443.xws  \n",
            " extracting: mit-bih-arrhythmia-database-1.0.0/mitdbdir/samples/2222543.xws  \n",
            " extracting: mit-bih-arrhythmia-database-1.0.0/mitdbdir/samples/2222609.xws  \n",
            " extracting: mit-bih-arrhythmia-database-1.0.0/mitdbdir/samples/2230935.xws  \n",
            " extracting: mit-bih-arrhythmia-database-1.0.0/mitdbdir/samples/2231235.xws  \n",
            " extracting: mit-bih-arrhythmia-database-1.0.0/mitdbdir/samples/2231339.xws  \n",
            " extracting: mit-bih-arrhythmia-database-1.0.0/mitdbdir/samples/2231351.xws  \n",
            " extracting: mit-bih-arrhythmia-database-1.0.0/mitdbdir/samples/2231721.xws  \n",
            " extracting: mit-bih-arrhythmia-database-1.0.0/mitdbdir/samples/2231755.xws  \n",
            " extracting: mit-bih-arrhythmia-database-1.0.0/mitdbdir/samples/2231907.xws  \n",
            " extracting: mit-bih-arrhythmia-database-1.0.0/mitdbdir/samples/2232358.xws  \n",
            " extracting: mit-bih-arrhythmia-database-1.0.0/mitdbdir/samples/2232547.xws  \n",
            " extracting: mit-bih-arrhythmia-database-1.0.0/mitdbdir/samples/2232916.xws  \n",
            " extracting: mit-bih-arrhythmia-database-1.0.0/mitdbdir/samples/2232951.xws  \n",
            " extracting: mit-bih-arrhythmia-database-1.0.0/mitdbdir/samples/2280019.xws  \n",
            " extracting: mit-bih-arrhythmia-database-1.0.0/mitdbdir/samples/2280038.xws  \n",
            " extracting: mit-bih-arrhythmia-database-1.0.0/mitdbdir/samples/2280050.xws  \n",
            " extracting: mit-bih-arrhythmia-database-1.0.0/mitdbdir/samples/2280435.xws  \n",
            " extracting: mit-bih-arrhythmia-database-1.0.0/mitdbdir/samples/2281918.xws  \n",
            " extracting: mit-bih-arrhythmia-database-1.0.0/mitdbdir/samples/2282008.xws  \n",
            " extracting: mit-bih-arrhythmia-database-1.0.0/mitdbdir/samples/2282137.xws  \n",
            " extracting: mit-bih-arrhythmia-database-1.0.0/mitdbdir/samples/2282149.xws  \n",
            " extracting: mit-bih-arrhythmia-database-1.0.0/mitdbdir/samples/2282642.xws  \n",
            " extracting: mit-bih-arrhythmia-database-1.0.0/mitdbdir/samples/2300000.xws  \n",
            " extracting: mit-bih-arrhythmia-database-1.0.0/mitdbdir/samples/2300012.xws  \n",
            " extracting: mit-bih-arrhythmia-database-1.0.0/mitdbdir/samples/2300511.xws  \n",
            " extracting: mit-bih-arrhythmia-database-1.0.0/mitdbdir/samples/2300926.xws  \n",
            " extracting: mit-bih-arrhythmia-database-1.0.0/mitdbdir/samples/2302904.xws  \n",
            " extracting: mit-bih-arrhythmia-database-1.0.0/mitdbdir/samples/2310002.xws  \n",
            " extracting: mit-bih-arrhythmia-database-1.0.0/mitdbdir/samples/2310224.xws  \n",
            " extracting: mit-bih-arrhythmia-database-1.0.0/mitdbdir/samples/2312011.xws  \n",
            " extracting: mit-bih-arrhythmia-database-1.0.0/mitdbdir/samples/2312110.xws  \n",
            " extracting: mit-bih-arrhythmia-database-1.0.0/mitdbdir/samples/2312322.xws  \n",
            " extracting: mit-bih-arrhythmia-database-1.0.0/mitdbdir/samples/2320058.xws  \n",
            " extracting: mit-bih-arrhythmia-database-1.0.0/mitdbdir/samples/2320151.xws  \n",
            " extracting: mit-bih-arrhythmia-database-1.0.0/mitdbdir/samples/2321151.xws  \n",
            " extracting: mit-bih-arrhythmia-database-1.0.0/mitdbdir/samples/2321306.xws  \n",
            " extracting: mit-bih-arrhythmia-database-1.0.0/mitdbdir/samples/2321509.xws  \n",
            " extracting: mit-bih-arrhythmia-database-1.0.0/mitdbdir/samples/2321817.xws  \n",
            " extracting: mit-bih-arrhythmia-database-1.0.0/mitdbdir/samples/2322231.xws  \n",
            " extracting: mit-bih-arrhythmia-database-1.0.0/mitdbdir/samples/2322247.xws  \n",
            " extracting: mit-bih-arrhythmia-database-1.0.0/mitdbdir/samples/2322320.xws  \n",
            " extracting: mit-bih-arrhythmia-database-1.0.0/mitdbdir/samples/2322334.xws  \n",
            " extracting: mit-bih-arrhythmia-database-1.0.0/mitdbdir/samples/2322353.xws  \n",
            " extracting: mit-bih-arrhythmia-database-1.0.0/mitdbdir/samples/2330011.xws  \n",
            " extracting: mit-bih-arrhythmia-database-1.0.0/mitdbdir/samples/2330025.xws  \n",
            " extracting: mit-bih-arrhythmia-database-1.0.0/mitdbdir/samples/2330218.xws  \n",
            " extracting: mit-bih-arrhythmia-database-1.0.0/mitdbdir/samples/2330243.xws  \n",
            " extracting: mit-bih-arrhythmia-database-1.0.0/mitdbdir/samples/2330339.xws  \n",
            " extracting: mit-bih-arrhythmia-database-1.0.0/mitdbdir/samples/2330502.xws  \n",
            " extracting: mit-bih-arrhythmia-database-1.0.0/mitdbdir/samples/2330943.xws  \n",
            " extracting: mit-bih-arrhythmia-database-1.0.0/mitdbdir/samples/2331620.xws  \n",
            " extracting: mit-bih-arrhythmia-database-1.0.0/mitdbdir/samples/2331802.xws  \n",
            " extracting: mit-bih-arrhythmia-database-1.0.0/mitdbdir/samples/2332223.xws  \n",
            " extracting: mit-bih-arrhythmia-database-1.0.0/mitdbdir/samples/2340016.xws  \n",
            " extracting: mit-bih-arrhythmia-database-1.0.0/mitdbdir/samples/2340637.xws  \n",
            " extracting: mit-bih-arrhythmia-database-1.0.0/mitdbdir/samples/2341401.xws  \n",
            " extracting: mit-bih-arrhythmia-database-1.0.0/mitdbdir/samples/2341426.xws  \n",
            " extracting: mit-bih-arrhythmia-database-1.0.0/mitdbdir/samples/2341702.xws  \n",
            " extracting: mit-bih-arrhythmia-database-1.0.0/mitdbdir/samples/2342126.xws  \n",
            " extracting: mit-bih-arrhythmia-database-1.0.0/mitdbdir/samples/2342317.xws  \n",
            " extracting: mit-bih-arrhythmia-database-1.0.0/mitdbdir/src/contents.gz  \n",
            "  inflating: mit-bih-arrhythmia-database-1.0.0/mitdbdir/src/contents.tr  \n",
            " extracting: mit-bih-arrhythmia-database-1.0.0/mitdbdir/src/cover.gz  \n",
            "  inflating: mit-bih-arrhythmia-database-1.0.0/mitdbdir/src/cover.tr  \n",
            "  inflating: mit-bih-arrhythmia-database-1.0.0/mitdbdir/src/dbnotes-html.c  \n",
            "  inflating: mit-bih-arrhythmia-database-1.0.0/mitdbdir/src/dbnotes.c  \n",
            "  inflating: mit-bih-arrhythmia-database-1.0.0/mitdbdir/src/dbtab.c  \n",
            "  inflating: mit-bih-arrhythmia-database-1.0.0/mitdbdir/src/domit  \n",
            "  inflating: mit-bih-arrhythmia-database-1.0.0/mitdbdir/src/exlist  \n",
            " extracting: mit-bih-arrhythmia-database-1.0.0/mitdbdir/src/extest  \n",
            " extracting: mit-bih-arrhythmia-database-1.0.0/mitdbdir/src/extext.gz  \n",
            "  inflating: mit-bih-arrhythmia-database-1.0.0/mitdbdir/src/extext.tr  \n",
            "  inflating: mit-bih-arrhythmia-database-1.0.0/mitdbdir/src/fdlist  \n",
            " extracting: mit-bih-arrhythmia-database-1.0.0/mitdbdir/src/fdtext.gz  \n",
            "  inflating: mit-bih-arrhythmia-database-1.0.0/mitdbdir/src/fdtext.tr  \n",
            " extracting: mit-bih-arrhythmia-database-1.0.0/mitdbdir/src/index.gz  \n",
            "  inflating: mit-bih-arrhythmia-database-1.0.0/mitdbdir/src/index.tr  \n",
            "  inflating: mit-bih-arrhythmia-database-1.0.0/mitdbdir/src/intro.gz  \n",
            "  inflating: mit-bih-arrhythmia-database-1.0.0/mitdbdir/src/intro.tr  \n",
            "  inflating: mit-bih-arrhythmia-database-1.0.0/mitdbdir/src/makefile  \n",
            "  inflating: mit-bih-arrhythmia-database-1.0.0/mitdbdir/src/makefile-html  \n",
            "  inflating: mit-bih-arrhythmia-database-1.0.0/mitdbdir/src/makelinks.pl  \n",
            " extracting: mit-bih-arrhythmia-database-1.0.0/mitdbdir/src/notes.gz  \n",
            "  inflating: mit-bih-arrhythmia-database-1.0.0/mitdbdir/src/notes.h  \n",
            "  inflating: mit-bih-arrhythmia-database-1.0.0/mitdbdir/src/printdir.bat  \n",
            "  inflating: mit-bih-arrhythmia-database-1.0.0/mitdbdir/src/tab.1  \n",
            "  inflating: mit-bih-arrhythmia-database-1.0.0/mitdbdir/src/tab.2  \n",
            "  inflating: mit-bih-arrhythmia-database-1.0.0/mitdbdir/src/tab.3  \n",
            "  inflating: mit-bih-arrhythmia-database-1.0.0/mitdbdir/src/tab.4  \n",
            " extracting: mit-bih-arrhythmia-database-1.0.0/mitdbdir/src/tab.5  \n",
            "  inflating: mit-bih-arrhythmia-database-1.0.0/mitdbdir/src/tables.gz  \n",
            "  inflating: mit-bih-arrhythmia-database-1.0.0/mitdbdir/src/title.dvi  \n",
            " extracting: mit-bih-arrhythmia-database-1.0.0/mitdbdir/src/title.gz  \n",
            "  inflating: mit-bih-arrhythmia-database-1.0.0/mitdbdir/tables.htm  \n",
            " extracting: mit-bih-arrhythmia-database-1.0.0/x_mitdb/ANNOTATORS  \n",
            "  inflating: mit-bih-arrhythmia-database-1.0.0/x_mitdb/RECORDS  \n",
            "  inflating: mit-bih-arrhythmia-database-1.0.0/x_mitdb/x_108.atr  \n",
            "  inflating: mit-bih-arrhythmia-database-1.0.0/x_mitdb/x_108.dat  \n",
            "  inflating: mit-bih-arrhythmia-database-1.0.0/x_mitdb/x_108.hea  \n",
            "  inflating: mit-bih-arrhythmia-database-1.0.0/x_mitdb/x_109.atr  \n",
            "  inflating: mit-bih-arrhythmia-database-1.0.0/x_mitdb/x_109.dat  \n",
            "  inflating: mit-bih-arrhythmia-database-1.0.0/x_mitdb/x_109.hea  \n",
            "  inflating: mit-bih-arrhythmia-database-1.0.0/x_mitdb/x_111.atr  \n",
            "  inflating: mit-bih-arrhythmia-database-1.0.0/x_mitdb/x_111.dat  \n",
            "  inflating: mit-bih-arrhythmia-database-1.0.0/x_mitdb/x_111.hea  \n",
            "  inflating: mit-bih-arrhythmia-database-1.0.0/x_mitdb/x_112.atr  \n",
            "  inflating: mit-bih-arrhythmia-database-1.0.0/x_mitdb/x_112.dat  \n",
            "  inflating: mit-bih-arrhythmia-database-1.0.0/x_mitdb/x_112.hea  \n",
            "  inflating: mit-bih-arrhythmia-database-1.0.0/x_mitdb/x_113.atr  \n",
            "  inflating: mit-bih-arrhythmia-database-1.0.0/x_mitdb/x_113.dat  \n",
            "  inflating: mit-bih-arrhythmia-database-1.0.0/x_mitdb/x_113.hea  \n",
            "  inflating: mit-bih-arrhythmia-database-1.0.0/x_mitdb/x_114.atr  \n",
            "  inflating: mit-bih-arrhythmia-database-1.0.0/x_mitdb/x_114.dat  \n",
            "  inflating: mit-bih-arrhythmia-database-1.0.0/x_mitdb/x_114.hea  \n",
            "  inflating: mit-bih-arrhythmia-database-1.0.0/x_mitdb/x_115.atr  \n",
            "  inflating: mit-bih-arrhythmia-database-1.0.0/x_mitdb/x_115.dat  \n",
            "  inflating: mit-bih-arrhythmia-database-1.0.0/x_mitdb/x_115.hea  \n",
            "  inflating: mit-bih-arrhythmia-database-1.0.0/x_mitdb/x_116.atr  \n",
            "  inflating: mit-bih-arrhythmia-database-1.0.0/x_mitdb/x_116.dat  \n",
            "  inflating: mit-bih-arrhythmia-database-1.0.0/x_mitdb/x_116.hea  \n",
            "  inflating: mit-bih-arrhythmia-database-1.0.0/x_mitdb/x_117.atr  \n",
            "  inflating: mit-bih-arrhythmia-database-1.0.0/x_mitdb/x_117.dat  \n",
            "  inflating: mit-bih-arrhythmia-database-1.0.0/x_mitdb/x_117.hea  \n",
            "  inflating: mit-bih-arrhythmia-database-1.0.0/x_mitdb/x_121.atr  \n",
            "  inflating: mit-bih-arrhythmia-database-1.0.0/x_mitdb/x_121.dat  \n",
            "  inflating: mit-bih-arrhythmia-database-1.0.0/x_mitdb/x_121.hea  \n",
            "  inflating: mit-bih-arrhythmia-database-1.0.0/x_mitdb/x_122.atr  \n",
            "  inflating: mit-bih-arrhythmia-database-1.0.0/x_mitdb/x_122.dat  \n",
            "  inflating: mit-bih-arrhythmia-database-1.0.0/x_mitdb/x_122.hea  \n",
            "  inflating: mit-bih-arrhythmia-database-1.0.0/x_mitdb/x_123.atr  \n",
            "  inflating: mit-bih-arrhythmia-database-1.0.0/x_mitdb/x_123.dat  \n",
            "  inflating: mit-bih-arrhythmia-database-1.0.0/x_mitdb/x_123.hea  \n",
            "  inflating: mit-bih-arrhythmia-database-1.0.0/x_mitdb/x_124.atr  \n",
            "  inflating: mit-bih-arrhythmia-database-1.0.0/x_mitdb/x_124.dat  \n",
            "  inflating: mit-bih-arrhythmia-database-1.0.0/x_mitdb/x_124.hea  \n",
            "  inflating: mit-bih-arrhythmia-database-1.0.0/x_mitdb/x_220.atr  \n",
            "  inflating: mit-bih-arrhythmia-database-1.0.0/x_mitdb/x_220.dat  \n",
            "  inflating: mit-bih-arrhythmia-database-1.0.0/x_mitdb/x_220.hea  \n",
            "  inflating: mit-bih-arrhythmia-database-1.0.0/x_mitdb/x_221.atr  \n",
            "  inflating: mit-bih-arrhythmia-database-1.0.0/x_mitdb/x_221.dat  \n",
            "  inflating: mit-bih-arrhythmia-database-1.0.0/x_mitdb/x_221.hea  \n",
            "  inflating: mit-bih-arrhythmia-database-1.0.0/x_mitdb/x_222.atr  \n",
            "  inflating: mit-bih-arrhythmia-database-1.0.0/x_mitdb/x_222.dat  \n",
            "  inflating: mit-bih-arrhythmia-database-1.0.0/x_mitdb/x_222.hea  \n",
            "  inflating: mit-bih-arrhythmia-database-1.0.0/x_mitdb/x_223.atr  \n",
            "  inflating: mit-bih-arrhythmia-database-1.0.0/x_mitdb/x_223.dat  \n",
            "  inflating: mit-bih-arrhythmia-database-1.0.0/x_mitdb/x_223.hea  \n",
            "  inflating: mit-bih-arrhythmia-database-1.0.0/x_mitdb/x_228.atr  \n",
            "  inflating: mit-bih-arrhythmia-database-1.0.0/x_mitdb/x_228.dat  \n",
            "  inflating: mit-bih-arrhythmia-database-1.0.0/x_mitdb/x_228.hea  \n",
            "  inflating: mit-bih-arrhythmia-database-1.0.0/x_mitdb/x_230.atr  \n",
            "  inflating: mit-bih-arrhythmia-database-1.0.0/x_mitdb/x_230.dat  \n",
            "  inflating: mit-bih-arrhythmia-database-1.0.0/x_mitdb/x_230.hea  \n",
            "  inflating: mit-bih-arrhythmia-database-1.0.0/x_mitdb/x_231.atr  \n",
            "  inflating: mit-bih-arrhythmia-database-1.0.0/x_mitdb/x_231.dat  \n",
            "  inflating: mit-bih-arrhythmia-database-1.0.0/x_mitdb/x_231.hea  \n",
            "  inflating: mit-bih-arrhythmia-database-1.0.0/x_mitdb/x_232.atr  \n",
            "  inflating: mit-bih-arrhythmia-database-1.0.0/x_mitdb/x_232.dat  \n",
            "  inflating: mit-bih-arrhythmia-database-1.0.0/x_mitdb/x_232.hea  \n",
            "  inflating: mit-bih-arrhythmia-database-1.0.0/x_mitdb/x_233.atr  \n",
            "  inflating: mit-bih-arrhythmia-database-1.0.0/x_mitdb/x_233.dat  \n",
            "  inflating: mit-bih-arrhythmia-database-1.0.0/x_mitdb/x_233.hea  \n",
            "  inflating: mit-bih-arrhythmia-database-1.0.0/x_mitdb/x_234.atr  \n",
            "  inflating: mit-bih-arrhythmia-database-1.0.0/x_mitdb/x_234.dat  \n",
            "  inflating: mit-bih-arrhythmia-database-1.0.0/x_mitdb/x_234.hea  \n"
          ]
        },
        {
          "output_type": "execute_result",
          "data": {
            "text/plain": [
              "['.config',\n",
              " 'mit-bih-arrhythmia-database-1.0.0',\n",
              " 'mit-bih-arrhythmia-database-1.0.0.zip',\n",
              " 'sample_data']"
            ]
          },
          "metadata": {},
          "execution_count": 3
        }
      ],
      "source": [
        "!wget https://www.physionet.org/static/published-projects/mitdb/mit-bih-arrhythmia-database-1.0.0.zip\n",
        "!unzip mit-bih-arrhythmia-database-1.0.0.zip\n",
        "\n",
        "download_directory = os.getcwd()\n",
        "sys.path.append(download_directory)\n",
        "os.listdir(download_directory)"
      ]
    },
    {
      "cell_type": "code",
      "execution_count": 4,
      "id": "auburn-problem",
      "metadata": {
        "id": "auburn-problem"
      },
      "outputs": [],
      "source": [
        "# from google.colab import drive\n",
        "# drive.mount('/content/gdrive/')\n",
        "# cloud_directory = '/content/gdrive/My Drive/mit_bih_arrhythmia/'\n",
        "# download_directory = cloud_directory\n",
        "# os.listdir(cloud_directory)"
      ]
    },
    {
      "cell_type": "markdown",
      "id": "meaning-membrane",
      "metadata": {
        "id": "meaning-membrane"
      },
      "source": [
        "### 2-2. Data loading and basic statistics\n",
        "데이터는 48개 케이스로 구성되고 각 케이스는 `hea`, `atr`, `dat`, `xws` 파일로 구성되어 있습니다.<br>\n",
        "annotation 관련 정보는 `atr` 파일에 포함되어 있습니다.<br>\n",
        "`wfdb` 패키지의 `rdann` 함수를 사용하여 `atr` 파일 내의 annotation을 불러올 수 있습니다."
      ]
    },
    {
      "cell_type": "code",
      "execution_count": 5,
      "id": "derived-marble",
      "metadata": {
        "id": "derived-marble",
        "outputId": "5b7452c0-6c87-4872-d03e-2ff7f0182e13",
        "colab": {
          "base_uri": "https://localhost:8080/"
        }
      },
      "outputs": [
        {
          "output_type": "stream",
          "name": "stdout",
          "text": [
            "['106.hea', '223.xws', '215.atr', '205.hea', '112.atr', '101.xws', 'SHA256SUMS.txt', '234.atr', '222.xws', '118.xws', '215.dat', '207.dat', '106.dat', '111.xws', '217.hea', '105.dat', '121.hea', '119.atr', '203.at-', '119.dat', '219.atr', '207.xws', '122.xws', '103.atr', '107.hea', '231.xws', '112.dat', '104.atr', '102.hea', '233.dat', '115.atr', '214.at_', '113.xws', '112.xws', '116.hea', '122.dat', '221.hea', '203.hea', '208.hea', '228.atr', '200.dat', '102.atr', '117.at_', '104.xws', '221.xws', '208.dat', '203.at_', '116.xws', '232.dat', '232.xws', '201.hea', '223.atr', '200.hea', '223.hea', '103.dat', '233.hea', '115.xws', '100.xws', '203.atr', '233.atr', '202.atr', '208.xws', '116.atr', '234.xws', '123.atr', '219.dat', '219.hea', '209.dat', '212.xws', '215.at_', '230.atr', '122.hea', '117.atr', '121.dat', '105.xws', '210.xws', '118.atr', '217.dat', '217.xws', '212.atr', '124.xws', '108.dat', '200.atr', '233.xws', '119.xws', '223.dat', '115.hea', '222.atr', '100.atr', '202.hea', '104.hea', '230.xws', '113.dat', '122.atr', '232.atr', '103.hea', '220.xws', '114.hea', '116.dat', '231.hea', '109.hea', '209.at_', '121.atr', '202.xws', '219.xws', '231.atr', '214.dat', '231.dat', '207.atr', '123.xws', '101.dat', 'mitdbdir', '109.dat', '209.hea', '107.atr', '124.dat', 'x_mitdb', '203.dat', '222.at_', '210.dat', '102.xws', '100.hea', '102.dat', '123.dat', '210.hea', '212.hea', '117.xws', '214.hea', '104.dat', '205.dat', '114.dat', '205.xws', '113.atr', '215.hea', '108.atr', '111.dat', '103.xws', '201.atr', '210.atr', '213.dat', '209.xws', '118.hea', '115.dat', '220.atr', '106.xws', '215.xws', '221.dat', '108.xws', '111.hea', '114.atr', '230.dat', '108.at_', '121.xws', '111.atr', '119.hea', '228.xws', '201.xws', '124.atr', '213.xws', '107.xws', '203.xws', '101.hea', '109.xws', '213.atr', '232.hea', '117.dat', '205.atr', '117.hea', 'RECORDS', '105.atr', '222.hea', '228.hea', '217.atr', '213.hea', '108.hea', '212.dat', '230.hea', '201.dat', '222.dat', '119.at_', '109.atr', '221.atr', '214.atr', '200.xws', '113.hea', '234.hea', '208.atr', '112.hea', '209.atr', '124.hea', '123.hea', '101.atr', '100.dat', '234.dat', '105.hea', '220.dat', '214.xws', '107.dat', '106.atr', '102-0.atr', '207.hea', 'ANNOTATORS', '114.xws', '228.dat', '220.hea', '202.dat', '118.dat']\n"
          ]
        }
      ],
      "source": [
        "# datapath\n",
        "datapath = './mit-bih-arrhythmia-database-1.0.0/'\n",
        "# mimic dataset 파일 구성: hea, atr, dat, xws\n",
        "print(os.listdir(datapath))"
      ]
    },
    {
      "cell_type": "markdown",
      "id": "measured-sampling",
      "metadata": {
        "id": "measured-sampling"
      },
      "source": [
        "데이터에서 환자번호를 뽑아옵니다."
      ]
    },
    {
      "cell_type": "code",
      "execution_count": 6,
      "id": "juvenile-cargo",
      "metadata": {
        "id": "juvenile-cargo"
      },
      "outputs": [],
      "source": [
        "header_files = [os.path.basename(x) for x in glob.glob(os.path.join(datapath, '*.hea'))]\n",
        "pids = sorted([x.split('.')[0] for x in header_files])"
      ]
    },
    {
      "cell_type": "markdown",
      "source": [
        "basename() : 확장자 빼고 이름만 불러옴."
      ],
      "metadata": {
        "id": "vj8-nM7174Fu"
      },
      "id": "vj8-nM7174Fu"
    },
    {
      "cell_type": "code",
      "execution_count": 7,
      "id": "multiple-diagram",
      "metadata": {
        "id": "multiple-diagram"
      },
      "outputs": [],
      "source": [
        "# annotation 파일 불러와서 label의 분포 확인\n",
        "df = pd.DataFrame()\n",
        "\n",
        "for pid in pids:\n",
        "    file = os.path.join(datapath, pid)\n",
        "    annotation = wfdb.rdann(os.path.join(file), 'atr')\n",
        "    symbols = annotation.symbol\n",
        "    \n",
        "    values, cnts = np.unique(symbols, return_counts=True)\n",
        "    df_sub = pd.DataFrame({'symbol': values, 'value': cnts, 'pid':[pid] * len(cnts)})\n",
        "    df = pd.concat([df, df_sub], axis=0)"
      ]
    },
    {
      "cell_type": "code",
      "source": [
        "df"
      ],
      "metadata": {
        "id": "dqfLLqhM8Ovq",
        "outputId": "51c7b887-ad4b-4554-92dd-b646886353b9",
        "colab": {
          "base_uri": "https://localhost:8080/",
          "height": 424
        }
      },
      "id": "dqfLLqhM8Ovq",
      "execution_count": 36,
      "outputs": [
        {
          "output_type": "execute_result",
          "data": {
            "text/plain": [
              "   symbol  value  pid  type\n",
              "0       +      1  100    -1\n",
              "1       A     33  100     1\n",
              "2       N   2239  100     0\n",
              "3       V      1  100     1\n",
              "0       +      1  101    -1\n",
              "..    ...    ...  ...   ...\n",
              "0       +      3  234    -1\n",
              "1       J     50  234     1\n",
              "2       N   2700  234     0\n",
              "3       V      3  234     1\n",
              "4       ~      8  234    -1\n",
              "\n",
              "[283 rows x 4 columns]"
            ],
            "text/html": [
              "\n",
              "  <div id=\"df-074b534f-eaec-4ca9-a38b-d0b37e00b6c3\">\n",
              "    <div class=\"colab-df-container\">\n",
              "      <div>\n",
              "<style scoped>\n",
              "    .dataframe tbody tr th:only-of-type {\n",
              "        vertical-align: middle;\n",
              "    }\n",
              "\n",
              "    .dataframe tbody tr th {\n",
              "        vertical-align: top;\n",
              "    }\n",
              "\n",
              "    .dataframe thead th {\n",
              "        text-align: right;\n",
              "    }\n",
              "</style>\n",
              "<table border=\"1\" class=\"dataframe\">\n",
              "  <thead>\n",
              "    <tr style=\"text-align: right;\">\n",
              "      <th></th>\n",
              "      <th>symbol</th>\n",
              "      <th>value</th>\n",
              "      <th>pid</th>\n",
              "      <th>type</th>\n",
              "    </tr>\n",
              "  </thead>\n",
              "  <tbody>\n",
              "    <tr>\n",
              "      <th>0</th>\n",
              "      <td>+</td>\n",
              "      <td>1</td>\n",
              "      <td>100</td>\n",
              "      <td>-1</td>\n",
              "    </tr>\n",
              "    <tr>\n",
              "      <th>1</th>\n",
              "      <td>A</td>\n",
              "      <td>33</td>\n",
              "      <td>100</td>\n",
              "      <td>1</td>\n",
              "    </tr>\n",
              "    <tr>\n",
              "      <th>2</th>\n",
              "      <td>N</td>\n",
              "      <td>2239</td>\n",
              "      <td>100</td>\n",
              "      <td>0</td>\n",
              "    </tr>\n",
              "    <tr>\n",
              "      <th>3</th>\n",
              "      <td>V</td>\n",
              "      <td>1</td>\n",
              "      <td>100</td>\n",
              "      <td>1</td>\n",
              "    </tr>\n",
              "    <tr>\n",
              "      <th>0</th>\n",
              "      <td>+</td>\n",
              "      <td>1</td>\n",
              "      <td>101</td>\n",
              "      <td>-1</td>\n",
              "    </tr>\n",
              "    <tr>\n",
              "      <th>...</th>\n",
              "      <td>...</td>\n",
              "      <td>...</td>\n",
              "      <td>...</td>\n",
              "      <td>...</td>\n",
              "    </tr>\n",
              "    <tr>\n",
              "      <th>0</th>\n",
              "      <td>+</td>\n",
              "      <td>3</td>\n",
              "      <td>234</td>\n",
              "      <td>-1</td>\n",
              "    </tr>\n",
              "    <tr>\n",
              "      <th>1</th>\n",
              "      <td>J</td>\n",
              "      <td>50</td>\n",
              "      <td>234</td>\n",
              "      <td>1</td>\n",
              "    </tr>\n",
              "    <tr>\n",
              "      <th>2</th>\n",
              "      <td>N</td>\n",
              "      <td>2700</td>\n",
              "      <td>234</td>\n",
              "      <td>0</td>\n",
              "    </tr>\n",
              "    <tr>\n",
              "      <th>3</th>\n",
              "      <td>V</td>\n",
              "      <td>3</td>\n",
              "      <td>234</td>\n",
              "      <td>1</td>\n",
              "    </tr>\n",
              "    <tr>\n",
              "      <th>4</th>\n",
              "      <td>~</td>\n",
              "      <td>8</td>\n",
              "      <td>234</td>\n",
              "      <td>-1</td>\n",
              "    </tr>\n",
              "  </tbody>\n",
              "</table>\n",
              "<p>283 rows × 4 columns</p>\n",
              "</div>\n",
              "      <button class=\"colab-df-convert\" onclick=\"convertToInteractive('df-074b534f-eaec-4ca9-a38b-d0b37e00b6c3')\"\n",
              "              title=\"Convert this dataframe to an interactive table.\"\n",
              "              style=\"display:none;\">\n",
              "        \n",
              "  <svg xmlns=\"http://www.w3.org/2000/svg\" height=\"24px\"viewBox=\"0 0 24 24\"\n",
              "       width=\"24px\">\n",
              "    <path d=\"M0 0h24v24H0V0z\" fill=\"none\"/>\n",
              "    <path d=\"M18.56 5.44l.94 2.06.94-2.06 2.06-.94-2.06-.94-.94-2.06-.94 2.06-2.06.94zm-11 1L8.5 8.5l.94-2.06 2.06-.94-2.06-.94L8.5 2.5l-.94 2.06-2.06.94zm10 10l.94 2.06.94-2.06 2.06-.94-2.06-.94-.94-2.06-.94 2.06-2.06.94z\"/><path d=\"M17.41 7.96l-1.37-1.37c-.4-.4-.92-.59-1.43-.59-.52 0-1.04.2-1.43.59L10.3 9.45l-7.72 7.72c-.78.78-.78 2.05 0 2.83L4 21.41c.39.39.9.59 1.41.59.51 0 1.02-.2 1.41-.59l7.78-7.78 2.81-2.81c.8-.78.8-2.07 0-2.86zM5.41 20L4 18.59l7.72-7.72 1.47 1.35L5.41 20z\"/>\n",
              "  </svg>\n",
              "      </button>\n",
              "      \n",
              "  <style>\n",
              "    .colab-df-container {\n",
              "      display:flex;\n",
              "      flex-wrap:wrap;\n",
              "      gap: 12px;\n",
              "    }\n",
              "\n",
              "    .colab-df-convert {\n",
              "      background-color: #E8F0FE;\n",
              "      border: none;\n",
              "      border-radius: 50%;\n",
              "      cursor: pointer;\n",
              "      display: none;\n",
              "      fill: #1967D2;\n",
              "      height: 32px;\n",
              "      padding: 0 0 0 0;\n",
              "      width: 32px;\n",
              "    }\n",
              "\n",
              "    .colab-df-convert:hover {\n",
              "      background-color: #E2EBFA;\n",
              "      box-shadow: 0px 1px 2px rgba(60, 64, 67, 0.3), 0px 1px 3px 1px rgba(60, 64, 67, 0.15);\n",
              "      fill: #174EA6;\n",
              "    }\n",
              "\n",
              "    [theme=dark] .colab-df-convert {\n",
              "      background-color: #3B4455;\n",
              "      fill: #D2E3FC;\n",
              "    }\n",
              "\n",
              "    [theme=dark] .colab-df-convert:hover {\n",
              "      background-color: #434B5C;\n",
              "      box-shadow: 0px 1px 3px 1px rgba(0, 0, 0, 0.15);\n",
              "      filter: drop-shadow(0px 1px 2px rgba(0, 0, 0, 0.3));\n",
              "      fill: #FFFFFF;\n",
              "    }\n",
              "  </style>\n",
              "\n",
              "      <script>\n",
              "        const buttonEl =\n",
              "          document.querySelector('#df-074b534f-eaec-4ca9-a38b-d0b37e00b6c3 button.colab-df-convert');\n",
              "        buttonEl.style.display =\n",
              "          google.colab.kernel.accessAllowed ? 'block' : 'none';\n",
              "\n",
              "        async function convertToInteractive(key) {\n",
              "          const element = document.querySelector('#df-074b534f-eaec-4ca9-a38b-d0b37e00b6c3');\n",
              "          const dataTable =\n",
              "            await google.colab.kernel.invokeFunction('convertToInteractive',\n",
              "                                                     [key], {});\n",
              "          if (!dataTable) return;\n",
              "\n",
              "          const docLinkHtml = 'Like what you see? Visit the ' +\n",
              "            '<a target=\"_blank\" href=https://colab.research.google.com/notebooks/data_table.ipynb>data table notebook</a>'\n",
              "            + ' to learn more about interactive tables.';\n",
              "          element.innerHTML = '';\n",
              "          dataTable['output_type'] = 'display_data';\n",
              "          await google.colab.output.renderOutput(dataTable, element);\n",
              "          const docLink = document.createElement('div');\n",
              "          docLink.innerHTML = docLinkHtml;\n",
              "          element.appendChild(docLink);\n",
              "        }\n",
              "      </script>\n",
              "    </div>\n",
              "  </div>\n",
              "  "
            ]
          },
          "metadata": {},
          "execution_count": 36
        }
      ]
    },
    {
      "cell_type": "markdown",
      "id": "surprised-tissue",
      "metadata": {
        "id": "surprised-tissue"
      },
      "source": [
        "대부분의 annotation은 `N` symbol, 즉 정상 beat annotation을 가지고 있습니다."
      ]
    },
    {
      "cell_type": "code",
      "execution_count": 8,
      "id": "right-arbor",
      "metadata": {
        "id": "right-arbor",
        "outputId": "3fd45df6-29e3-4ffd-ff11-6022db2e1c9a",
        "colab": {
          "base_uri": "https://localhost:8080/"
        }
      },
      "outputs": [
        {
          "output_type": "execute_result",
          "data": {
            "text/plain": [
              "symbol\n",
              "N    75052\n",
              "L     8075\n",
              "R     7259\n",
              "V     7130\n",
              "/     7028\n",
              "A     2546\n",
              "+     1291\n",
              "f      982\n",
              "F      803\n",
              "~      616\n",
              "!      472\n",
              "\"      437\n",
              "j      229\n",
              "x      193\n",
              "a      150\n",
              "|      132\n",
              "E      106\n",
              "J       83\n",
              "Q       33\n",
              "e       16\n",
              "[        6\n",
              "]        6\n",
              "S        2\n",
              "Name: value, dtype: int64"
            ]
          },
          "metadata": {},
          "execution_count": 8
        }
      ],
      "source": [
        "# Annotation 파일의 분포\n",
        "df.groupby('symbol').value.sum().sort_values(ascending = False)"
      ]
    },
    {
      "cell_type": "markdown",
      "id": "surrounded-folks",
      "metadata": {
        "id": "surrounded-folks"
      },
      "source": [
        "MIT-BIH arrhythmia dataset에 포함되는 모든 annotation은 다음과 같습니다.<br>\n",
        "보다 자세한 내용은 아래 공식 홈페이지에서 확인할 수 있습니다.<br>\n",
        "\n",
        "> reference: <br> \n",
        "> https://www.physionet.org/physiobank/database/html/mitdbdir/tables.htm\n",
        "\n",
        "Beat annotations:<br>\n",
        "\n",
        "|Code\t|\tDescription    |\n",
        "| :-: | :- |\n",
        "| N\t|\tNormal beat <br>(displayed as \"·\" by the PhysioBank ATM, LightWAVE, pschart, and psfd)|\n",
        "|L\t|\tLeft bundle branch block beat |\n",
        "|R\t|\tRight bundle branch block beat |\n",
        "|B\t|\tBundle branch block beat (unspecified) |\n",
        "|A\t|\tAtrial premature beat |\n",
        "|a\t|\tAberrated atrial premature beat |\n",
        "|J\t|\tNodal (junctional) premature beat |\n",
        "|S\t|\tSupraventricular premature or ectopic beat (atrial or nodal) |\n",
        "|V\t|\tPremature ventricular contraction |\n",
        "|r\t|\tR-on-T premature ventricular contraction |\n",
        "|F\t|\tFusion of ventricular and normal beat |\n",
        "|e\t|\tAtrial escape beat |\n",
        "|j\t|\tNodal (junctional) escape beat |\n",
        "|n\t|\tSupraventricular escape beat (atrial or nodal) |\n",
        "|E\t|\tVentricular escape beat |\n",
        "|/\t|\tPaced beat |\n",
        "|f\t|\tFusion of paced and normal beat |\n",
        "|Q\t|\tUnclassifiable beat |\n",
        "|?\t|\tBeat not classified during learning |\n",
        "\n",
        "Non-beat annotations:<br>\n",
        "\n",
        "|Code\t|\tDescription|\n",
        "| :-: | :- |\n",
        "|\\[\t|\tStart of ventricular flutter/fibrillation |\n",
        "|!\t|\tVentricular flutter wave |\n",
        "|\\]\t|\tEnd of ventricular flutter/fibrillation |\n",
        "|x\t|\tNon-conducted P-wave (blocked APC) |\n",
        "|(\t|\tWaveform onset |\n",
        "|)\t|\tWaveform end |\n",
        "|p\t|\tPeak of P-wave |\n",
        "|t\t|\tPeak of T-wave |\n",
        "|u\t|\tPeak of U-wave |\n",
        "|\\`\t|\tPQ junction |\n",
        "|'\t|\tJ-point |\n",
        "|^\t|\t(Non-captured) pacemaker artifact |\n",
        "||\t|\tIsolated QRS-like artifact |\n",
        "|~\t|\tChange in signal quality |\n",
        "|+\t|\tRhythm change |\n",
        "|s\t|\tST segment change |\n",
        "|T\t|\tT-wave change |\n",
        "|*\t|\tSystole |\n",
        "|D\t|\tDiastole |\n",
        "|=\t|\tMeasurement annotation |\n",
        "|\"\t|\tComment annotation |\n",
        "|@\t|\tLink to external data |\n",
        "\n"
      ]
    },
    {
      "cell_type": "markdown",
      "id": "about-cemetery",
      "metadata": {
        "id": "about-cemetery"
      },
      "source": [
        "본 강좌에서는 non-beat annotation은 모두 무시하고, 정상과 비정상 beat만 구분하여 arrhythmia를 detect 할 수 있는 딥러닝 모델을 만들어 보겠습니다."
      ]
    },
    {
      "cell_type": "code",
      "execution_count": 9,
      "id": "comprehensive-routine",
      "metadata": {
        "id": "comprehensive-routine"
      },
      "outputs": [],
      "source": [
        "# list of nonbeat and abnormal\n",
        "nonbeat = ['[','!',']','x','(',')','p','t','u','`',\n",
        "           '\\'','^','|','~','+','s','T','*','D','=','\"','@','Q','?']\n",
        "abnormal = ['L','R','V','/','A','f','F','j','a','E','J','e','S']"
      ]
    },
    {
      "cell_type": "code",
      "execution_count": 10,
      "id": "banner-penny",
      "metadata": {
        "id": "banner-penny"
      },
      "outputs": [],
      "source": [
        "# normal, abnormal, nonbeat의 비율 구성 확인\n",
        "df['type'] = -1 # nonbeat\n",
        "df.loc[df.symbol == 'N', 'type'] = 0 # normal\n",
        "df.loc[df.symbol.isin(abnormal), 'type'] = 1 # abnormal"
      ]
    },
    {
      "cell_type": "code",
      "execution_count": 11,
      "id": "cultural-reset",
      "metadata": {
        "id": "cultural-reset",
        "outputId": "f3183599-cfbc-4627-8a7e-d3b5a508c02f",
        "colab": {
          "base_uri": "https://localhost:8080/"
        }
      },
      "outputs": [
        {
          "output_type": "execute_result",
          "data": {
            "text/plain": [
              "type\n",
              "-1     3186\n",
              " 0    75052\n",
              " 1    34409\n",
              "Name: value, dtype: int64"
            ]
          },
          "metadata": {},
          "execution_count": 11
        }
      ],
      "source": [
        "df.groupby('type').value.sum()"
      ]
    },
    {
      "cell_type": "markdown",
      "id": "mechanical-professor",
      "metadata": {
        "id": "mechanical-professor"
      },
      "source": [
        "#### Define ECG data loading function\n",
        "`wfdb` 패키지를 이용하여 ECG waveform과 annotation을 불러올 수 있는 함수를 정의합니다.<br>\n",
        "`rdrecord` 함수를 이용하여 raw signal 데이터를 불러옵니다 <br>\n",
        "`rdann` 함수를 이용하여 annotation 데이터의 symbol 과 symbol의 index를 불러옵니다."
      ]
    },
    {
      "cell_type": "code",
      "execution_count": 40,
      "id": "mighty-wrong",
      "metadata": {
        "id": "mighty-wrong"
      },
      "outputs": [],
      "source": [
        "# load single patient's ecg signal and annotation\n",
        "def load_ecg(file):\n",
        "    \"\"\"\n",
        "    wfdb.rdrecord 를 이용해서 ecg 파일을 읽어옵니다.\n",
        "    \"\"\"\n",
        "    \n",
        "    # load the ecg\n",
        "    record = wfdb.rdrecord(file)\n",
        "    # load the annotation\n",
        "    annotation = wfdb.rdann(file, 'atr')\n",
        "    \n",
        "    # extract the signal\n",
        "    p_signal = record.p_signal\n",
        "    \n",
        "    # verify frequency is 360\n",
        "    assert record.fs == 360, 'sample freq is not 360'\n",
        "    \n",
        "    # extract symbols and annotation index\n",
        "    atr_sym = annotation.symbol\n",
        "    atr_index = annotation.sample #annotaion의 포지션\n",
        "    \n",
        "    return p_signal, atr_sym, atr_index"
      ]
    },
    {
      "cell_type": "markdown",
      "id": "according-arbor",
      "metadata": {
        "id": "according-arbor"
      },
      "source": [
        "예시로 신호 데이터의 일부를 plotting 해보면 다음과 같습니다.<br>\n",
        "여기서, 각 변수는 다음을 의미합니다. <br>\n",
        "`p_signal` = raw ecg signal <br>\n",
        "`atr_sym` = annotation symbol <br>\n",
        "`atr_sample` = annotation index <br>"
      ]
    },
    {
      "cell_type": "code",
      "execution_count": 13,
      "id": "conscious-extra",
      "metadata": {
        "id": "conscious-extra",
        "outputId": "be9460d6-aceb-402a-cc5f-b27e232751a0",
        "colab": {
          "base_uri": "https://localhost:8080/",
          "height": 285
        }
      },
      "outputs": [
        {
          "output_type": "execute_result",
          "data": {
            "text/plain": [
              "[<matplotlib.lines.Line2D at 0x7f708c522590>]"
            ]
          },
          "metadata": {},
          "execution_count": 13
        },
        {
          "output_type": "display_data",
          "data": {
            "text/plain": [
              "<Figure size 432x288 with 1 Axes>"
            ],
            "image/png": "[encoded data removed]"
          },
          "metadata": {
            "needs_background": "light"
          }
        }
      ],
      "source": [
        "file = os.path.join(datapath, pids[0])\n",
        "p_signal, atr_sym, atr_sample = load_ecg(file)\n",
        "plt.plot(p_signal[1000:2000, 0])"
      ]
    },
    {
      "cell_type": "markdown",
      "id": "usual-return",
      "metadata": {
        "id": "usual-return"
      },
      "source": [
        "이 환자 케이스에서 가지고 있는 annotation을 살펴보면 다음과 같습니다."
      ]
    },
    {
      "cell_type": "code",
      "execution_count": 14,
      "id": "professional-tyler",
      "metadata": {
        "id": "professional-tyler",
        "outputId": "8dc01d44-06a2-4b42-c2f5-03aaed42aa38",
        "colab": {
          "base_uri": "https://localhost:8080/"
        }
      },
      "outputs": [
        {
          "output_type": "stream",
          "name": "stdout",
          "text": [
            "+ 1\n",
            "A 33\n",
            "N 2239\n",
            "V 1\n"
          ]
        }
      ],
      "source": [
        "values, counts = np.unique(atr_sym, return_counts = True)\n",
        "for v, c in zip(values, counts):\n",
        "    print(v, c)"
      ]
    },
    {
      "cell_type": "markdown",
      "id": "assisted-tracy",
      "metadata": {
        "id": "assisted-tracy"
      },
      "source": [
        "이 중 abnormal에 해당되는 annotation의 위치를 살펴보면 다음과 같습니다."
      ]
    },
    {
      "cell_type": "code",
      "execution_count": 15,
      "id": "impaired-october",
      "metadata": {
        "id": "impaired-october",
        "outputId": "151839af-2a41-4139-e7d6-b0f6c4dad7fb",
        "colab": {
          "base_uri": "https://localhost:8080/"
        }
      },
      "outputs": [
        {
          "output_type": "execute_result",
          "data": {
            "text/plain": [
              "[2044, 66792, 74986, 99579, 128085, 170719, 279576, 305709, 307745, 312825]"
            ]
          },
          "metadata": {},
          "execution_count": 15
        }
      ],
      "source": [
        "# get abnormal beat index\n",
        "ab_index = [b for a,b in zip(atr_sym,atr_sample) if a in abnormal][:10]\n",
        "ab_index"
      ]
    },
    {
      "cell_type": "markdown",
      "id": "imported-trust",
      "metadata": {
        "id": "imported-trust"
      },
      "source": [
        "위의 abnormal에 해당되는 annotation의 index를 기준으로, 전후 3초의 ecg signal을 plotting 해보면 다음과 같습니다. "
      ]
    },
    {
      "cell_type": "code",
      "execution_count": 16,
      "id": "intended-richardson",
      "metadata": {
        "id": "intended-richardson",
        "outputId": "b1f85ab2-9491-49e7-bcc6-b63299c8170a",
        "colab": {
          "base_uri": "https://localhost:8080/",
          "height": 497
        }
      },
      "outputs": [
        {
          "output_type": "display_data",
          "data": {
            "text/plain": [
              "<Figure size 1080x576 with 1 Axes>"
            ],
            "image/png": "[encoded data removed]"
          },
          "metadata": {
            "needs_background": "light"
          }
        }
      ],
      "source": [
        "x = np.arange(len(p_signal))\n",
        "left = ab_index[1]-(360*3) # 전 3초\n",
        "right = ab_index[1]+(360*3) # 후 3초\n",
        "\n",
        "plt.figure(figsize=(15, 8))\n",
        "plt.plot(x[left:right],p_signal[left:right,0],'-',label='ecg',)\n",
        "plt.plot(x[atr_sample],p_signal[atr_sample,0],'go',label ='normal')\n",
        "plt.plot(x[ab_index],p_signal[ab_index,0],'ro',label='abnormal')\n",
        "\n",
        "plt.xlim(left,right)\n",
        "plt.ylim(p_signal[left:right].min()-0.05,p_signal[left:right,0].max()+0.05)\n",
        "plt.xlabel('time index')\n",
        "plt.ylabel('ECG signal')\n",
        "plt.legend(bbox_to_anchor = (1.04,1), loc = 'upper left')\n",
        "plt.show()"
      ]
    },
    {
      "cell_type": "markdown",
      "id": "funded-familiar",
      "metadata": {
        "id": "funded-familiar"
      },
      "source": [
        "***"
      ]
    },
    {
      "cell_type": "markdown",
      "id": "dense-monaco",
      "metadata": {
        "id": "dense-monaco"
      },
      "source": [
        "## 3. Preparing dataset for deep learning\n",
        "\n",
        "### 3-1. Define functions to build dataset for deep learning\n",
        "이제 본격적으로 딥러닝에 사용할 데이터셋을 구축 해보겠습니다.<br>\n",
        "데이터셋 구축 방법은 딥러닝 모델의 구조와 추후 모델 활용 방식에 따라 여러가지가 있을 수 있습니다.<br>\n",
        "본 강의에서는 `n`초의 raw signal waveform내에 arrhythmia를 포함하는지 아닌지를 detect 할 수 있는 딥러닝 모델을 만들어 보겠습니다.<br>\n",
        "annotation 된 index를 기준으로, 전 후 `n/2`초의 raw signal을 하나의 segment로 자르고 그에 상응하는 annotation symbol을 label로 지정하여 데이터셋을 구축하겠습니다.<br>\n",
        "<br>\n",
        "우선 non-beat annotation을 제외하고 normal symbol과 abnormal symbol의 index만 추출합니다.<br>\n",
        "추출된 annotation index를 기준으로 순회하며 abnormal symbol인 경우는 `Y` 값에 `1`을 할당하고, normal beat는 `0`을 할당합니다.<br>\n",
        "또한 대응되는 annotation symbol을 별도로 추출하여 `symbol`값에 할당합니다."
      ]
    },
    {
      "cell_type": "code",
      "execution_count": 17,
      "id": "incorporate-oasis",
      "metadata": {
        "id": "incorporate-oasis"
      },
      "outputs": [],
      "source": [
        "def build_dataset(pids, window_size, freq, abnormal):\n",
        "    \"\"\"\n",
        "    딥러닝 모델 학습을 위한 데이터를 구축합니다.\n",
        "    \"\"\"\n",
        "    ncols = window_size * freq\n",
        "    X_merged = np.zeros((1, ncols))\n",
        "    Y_merged = np.zeros((1,1))\n",
        "    symbol_merged = []\n",
        "    \n",
        "    rows_per_pid = []\n",
        "    \n",
        "    for pid in tqdm.tqdm(pids):\n",
        "        \n",
        "        filename = datapath + pid\n",
        "        p_signal, atr_sym, atr_sample = load_ecg(filename)\n",
        "        \n",
        "        p_signal = p_signal[:,0]\n",
        "        \n",
        "        # beat index (exclude non-beat)\n",
        "        beat_annotation_index = [x in (abnormal + ['N']) for x in atr_sym]\n",
        "        \n",
        "        X, Y, symbols = build_XY(signal=p_signal, \n",
        "                                 atr_sym = atr_sym, \n",
        "                                 atr_sample = atr_sample,\n",
        "                                 beat_index = beat_annotation_index, \n",
        "                                 nsec = window_size/2, \n",
        "                                 fs = freq,\n",
        "                                 ncols = ncols,\n",
        "                                 abnormal = abnormal)\n",
        "        \n",
        "        X_merged = np.append(X_merged, X, axis=0)\n",
        "        Y_merged = np.append(Y_merged, Y, axis=0)\n",
        "        symbol_merged = symbol_merged + symbols\n",
        "        rows_per_pid.append(Y.shape[0])\n",
        "        \n",
        "    # drop first zero rows\n",
        "    X_merged = X_merged[1:,:]\n",
        "    Y_merged = Y_merged[1:,:]\n",
        "    \n",
        "    # check sizes make sense\n",
        "    assert np.sum(rows_per_pid) == X_merged.shape[0], 'number of X, max_rows rows messed up'\n",
        "    assert Y_merged.shape[0] == X_merged.shape[0], 'number of X, Y rows messed up'\n",
        "    assert Y_merged.shape[0] == len(symbol_merged), 'number of Y, sym rows messed up'\n",
        "    \n",
        "    return X_merged, Y_merged, symbol_merged\n",
        "\n",
        "\n",
        "def build_XY(signal, atr_sym, atr_sample, beat_index, nsec, fs, ncols, abnormal):\n",
        "    \"\"\"\n",
        "    하나의 환자 id에서 signal과 annotation을 추출합니다.\n",
        "    \"\"\"\n",
        "    \n",
        "    num_rows = len(beat_index)\n",
        "\n",
        "    X = np.zeros((num_rows, ncols))\n",
        "    Y = np.zeros((num_rows,1))\n",
        "    symbols = []\n",
        "    \n",
        "    # keep track of rows\n",
        "    max_row = 0\n",
        "    \n",
        "    beat_atr_sym = np.array(atr_sym)[beat_index]\n",
        "    beat_atr_sample = np.array(atr_sample)[beat_index]\n",
        "\n",
        "    for sym, samp in zip(beat_atr_sym, beat_atr_sample):\n",
        "\n",
        "        left = int(max([0,(samp - nsec*fs) ]))\n",
        "        right = int(min([len(signal),(samp + nsec*fs) ]))\n",
        "        \n",
        "        x = signal[left: right]\n",
        "        if len(x) == ncols:\n",
        "            X[max_row,:] = x\n",
        "            Y[max_row,:] = int(sym in abnormal) #1,0으로 변환(T,F)\n",
        "            symbols.append(sym)\n",
        "            max_row += 1\n",
        "    X = X[:max_row,:]\n",
        "    Y = Y[:max_row,:]\n",
        "    return X, Y, symbols"
      ]
    },
    {
      "cell_type": "markdown",
      "id": "planned-printer",
      "metadata": {
        "id": "planned-printer"
      },
      "source": [
        "### 3-2. Build train and validation dataset\n",
        "train과 validation에 사용할 데이터셋을 각각 구축합니다.<br>\n",
        "일반적인 딥러닝 학습시에는 다음과 같이 데이터를 구축합니다.<br>\n",
        "1. `train dataset`\n",
        "2. `validation dataset`\n",
        "3. `test dataset`\n",
        "\n",
        "`train dataset`은 딥러닝 모델 학습에 사용되고, <br>\n",
        "`validation dataset`은 딥러닝 학습 시 overfitting 등을 검증하는데 활용되고,<br>\n",
        "`test dataset`은 딥러닝 모델 평가에 활용됩니다.<br>\n",
        "<br>\n",
        "본 강의에서는 편의상 `train dataset` 과 `validation dataset` 만 구축하여 모델을 학습하고 그 과정을 확인해보겠습니다. <br>\n",
        "<br>\n",
        "<font color='darkred'>여기서 주의할점은</font>, **case 기준으로 train과 validation을 구분해야 한다는 것**입니다.<br>\n",
        "case를 구분하지 않고 전체 sample에서 random하게 train/validation을 구분할 경우 딥러닝 모델의 성능은 우수한 것으로 나올 수 있지만 실제 성능은 (training data이외의 데이터에서 평가시) 성능이 떨어지는 경우가 발생할 수 있습니다.<br>\n"
      ]
    },
    {
      "cell_type": "code",
      "execution_count": 41,
      "id": "beneficial-valley",
      "metadata": {
        "id": "beneficial-valley"
      },
      "outputs": [],
      "source": [
        "# 6초의 segment로 데이터 구축\n",
        "window_size = 6\n",
        "frequency = 360\n",
        "batch_size = 1000"
      ]
    },
    {
      "cell_type": "code",
      "execution_count": 42,
      "id": "configured-waters",
      "metadata": {
        "id": "configured-waters"
      },
      "outputs": [],
      "source": [
        "# dataset split\n",
        "random.seed(77)\n",
        "pids_test = random.sample(pids, int(len(pids) / 4))\n",
        "pids_train = [pid for pid in pids if pid not in pids_test]"
      ]
    },
    {
      "cell_type": "code",
      "execution_count": 43,
      "id": "dental-malawi",
      "metadata": {
        "id": "dental-malawi",
        "outputId": "2cae765d-0d8c-4af5-d09f-64c181db444b",
        "colab": {
          "base_uri": "https://localhost:8080/"
        }
      },
      "outputs": [
        {
          "output_type": "stream",
          "name": "stderr",
          "text": [
            "100%|██████████| 36/36 [00:09<00:00,  3.70it/s]\n",
            "100%|██████████| 12/12 [00:01<00:00,  7.10it/s]"
          ]
        },
        {
          "output_type": "stream",
          "name": "stdout",
          "text": [
            "Shape of train dataset: \n",
            " X: (82168, 2160) \n",
            " Y: (82168, 1) \n",
            " symbol: 82168 \n",
            "\n",
            "Shape of test dataset: \n",
            " X: (26931, 2160) \n",
            " Y: (26931, 1) \n",
            " symbol: 26931 \n",
            "\n"
          ]
        },
        {
          "output_type": "stream",
          "name": "stderr",
          "text": [
            "\n"
          ]
        }
      ],
      "source": [
        "# build dataset\n",
        "X_train, Y_train, symbol_train = build_dataset(pids_train, \n",
        "                                               window_size, \n",
        "                                               frequency, \n",
        "                                               abnormal)\n",
        "X_test, Y_test, symbol_test = build_dataset(pids_test,\n",
        "                                              window_size,\n",
        "                                              frequency,\n",
        "                                              abnormal)\n",
        "\n",
        "print(\"Shape of train dataset: \\n X: {} \\n Y: {} \\n symbol: {} \\n\".format(\n",
        "X_train.shape, Y_train.shape, len(symbol_train)))\n",
        "print(\"Shape of test dataset: \\n X: {} \\n Y: {} \\n symbol: {} \\n\".format(\n",
        "X_test.shape, Y_test.shape, len(symbol_test)))"
      ]
    },
    {
      "cell_type": "code",
      "execution_count": 44,
      "id": "convinced-combining",
      "metadata": {
        "id": "convinced-combining",
        "outputId": "7b866099-09a9-4da7-957b-6d430dcc9dc0",
        "colab": {
          "base_uri": "https://localhost:8080/"
        }
      },
      "outputs": [
        {
          "output_type": "stream",
          "name": "stdout",
          "text": [
            "['/' 'A' 'E' 'F' 'J' 'L' 'N' 'R' 'S' 'V' 'a' 'e' 'f' 'j']\n",
            "['/' 'A' 'F' 'L' 'N' 'R' 'V' 'a' 'j']\n"
          ]
        }
      ],
      "source": [
        "# train / test set symbol 확인\n",
        "print(np.unique(symbol_train))\n",
        "print(np.unique(symbol_test))"
      ]
    },
    {
      "cell_type": "code",
      "execution_count": 45,
      "id": "critical-place",
      "metadata": {
        "id": "critical-place",
        "outputId": "2e234c3d-d684-4906-af34-9ef989468a77",
        "colab": {
          "base_uri": "https://localhost:8080/"
        }
      },
      "outputs": [
        {
          "output_type": "stream",
          "name": "stdout",
          "text": [
            "30.569 %\n",
            "34.109 %\n"
          ]
        }
      ],
      "source": [
        "# train과 test set의 abnormal 비율 확인\n",
        "print('{:.3f} %'.format((Y_train.sum() / len(Y_train))* 100))\n",
        "print('{:.3f} %'.format((Y_test.sum() / len(Y_test))* 100))"
      ]
    },
    {
      "cell_type": "markdown",
      "id": "thrown-aside",
      "metadata": {
        "id": "thrown-aside"
      },
      "source": [
        "***"
      ]
    },
    {
      "cell_type": "markdown",
      "id": "billion-thriller",
      "metadata": {
        "id": "billion-thriller"
      },
      "source": [
        "## 4. Deep Learning model training - binary classification\n",
        "\n",
        "첫번째 예제로 binary classification (이진분류) 을 수행해 보겠습니다.<br>\n",
        "아주 단순한 Artificial Neural Network 모델을 사용할 것입니다.<br>\n",
        "딥러닝 모델의 예측 결과가 0인 경우 normal beat 에 해당되고 1인 경우 abnormal에 해당합니다."
      ]
    },
    {
      "cell_type": "code",
      "execution_count": 23,
      "id": "romance-detection",
      "metadata": {
        "id": "romance-detection"
      },
      "outputs": [],
      "source": [
        "import tensorflow as tf\n",
        "from keras.models import Sequential\n",
        "from keras.layers import Dense, Flatten, Dropout\n",
        "from keras import optimizers"
      ]
    },
    {
      "cell_type": "markdown",
      "id": "anticipated-remove",
      "metadata": {
        "id": "anticipated-remove"
      },
      "source": [
        "### 4-1. Define Fully Connected Network\n",
        "아주 간단한 딥러닝 모델을 정의합니다.<br>\n",
        "우선 다른 모듈을 사용하지 않고 단순한 linear layer 2개층을 가지는 네트워크를 생성해보겠습니다.<br>\n",
        "모델의 input은 2160 sized raw waveform (360\\*6=2160)이고 중간에 512개와 128개의 neuron을 갖는 layer를 하나 가지고 있는 단순한 네트워크 입니다.<br>\n",
        "이진 분류를 위해서 모델 output에 `sigmoid` 함수를 취합니다.<br>\n",
        "`Keras`에서는 모델을 선언 후 컴파일해주어야 합니다. 이때 loss function과 optimizer 등을 정의합니다."
      ]
    },
    {
      "cell_type": "code",
      "execution_count": 24,
      "id": "fatty-banana",
      "metadata": {
        "id": "fatty-banana"
      },
      "outputs": [],
      "source": [
        "fcn_model = Sequential()\n",
        "fcn_model.add(Dense(512, activation = 'relu'))\n",
        "fcn_model.add(Dropout(rate=0.25))\n",
        "fcn_model.add(Dense(128, activation = 'relu'))\n",
        "fcn_model.add(Dropout(rate=0.25))\n",
        "fcn_model.add(Dense(1, activation='sigmoid'))\n",
        "\n",
        "adam_optimizer = tf.keras.optimizers.Adam(lr=0.00005)\n",
        "fcn_model.compile(loss='binary_crossentropy', optimizer=adam_optimizer, metrics=['accuracy'])"
      ]
    },
    {
      "cell_type": "code",
      "source": [
        "fcn_model=Sequential()\n",
        "fcn_model.add(Dense(512,activation='relu'))\n",
        "fcn_model.add(Dropout(rate=0.25))\n",
        "fcn_model.add(Dense(256,activation='relu'))\n",
        "fcn_model.add(Dropout(rate=0.25))\n",
        "fcn_model.add(Dense(128,activation='relu'))\n",
        "fcn_model.add(Dropout(rate=0.25))\n",
        "fcn_model.add(Dense(1,activation='sigmoid'))\n",
        "\n",
        "adam_optimizer=tf.keras.optimizers.Adam(lr=0.00005)\n",
        "fcn_model.compile(loss='binary_crossentropy', optimizer=adam_optimizer, metrics=['accuracy'])"
      ],
      "metadata": {
        "id": "lEM6JgYsACA0"
      },
      "id": "lEM6JgYsACA0",
      "execution_count": 51,
      "outputs": []
    },
    {
      "cell_type": "markdown",
      "id": "intelligent-albania",
      "metadata": {
        "id": "intelligent-albania"
      },
      "source": [
        "### 4-2. Model fitting\n",
        "모델을 학습시킵니다.<br>\n",
        "학습 결과를 `train_history`에 저장하고 학습 과정동안의 loss 변화와 accuracy 변화를 확인합니다.<br>\n",
        "Training 데이터의 일부 (여기서는 20%) 를 validation을 위해 사용합니다."
      ]
    },
    {
      "cell_type": "code",
      "execution_count": 52,
      "id": "polar-violation",
      "metadata": {
        "id": "polar-violation",
        "outputId": "c561f027-0f11-45ff-9363-79c9f3e698fb",
        "colab": {
          "base_uri": "https://localhost:8080/"
        }
      },
      "outputs": [
        {
          "output_type": "stream",
          "name": "stdout",
          "text": [
            "Epoch 1/10\n",
            "66/66 [==============================] - 1s 12ms/step - loss: 0.5876 - accuracy: 0.7093 - val_loss: 0.3922 - val_accuracy: 0.8713\n",
            "Epoch 2/10\n",
            "66/66 [==============================] - 0s 7ms/step - loss: 0.4280 - accuracy: 0.8191 - val_loss: 0.3335 - val_accuracy: 0.8734\n",
            "Epoch 3/10\n",
            "66/66 [==============================] - 0s 7ms/step - loss: 0.3412 - accuracy: 0.8664 - val_loss: 0.3062 - val_accuracy: 0.8799\n",
            "Epoch 4/10\n",
            "66/66 [==============================] - 0s 7ms/step - loss: 0.2870 - accuracy: 0.8906 - val_loss: 0.2704 - val_accuracy: 0.8998\n",
            "Epoch 5/10\n",
            "66/66 [==============================] - 0s 7ms/step - loss: 0.2423 - accuracy: 0.9106 - val_loss: 0.2531 - val_accuracy: 0.9067\n",
            "Epoch 6/10\n",
            "66/66 [==============================] - 0s 7ms/step - loss: 0.2033 - accuracy: 0.9274 - val_loss: 0.2372 - val_accuracy: 0.9165\n",
            "Epoch 7/10\n",
            "66/66 [==============================] - 0s 7ms/step - loss: 0.1734 - accuracy: 0.9406 - val_loss: 0.2378 - val_accuracy: 0.9222\n",
            "Epoch 8/10\n",
            "66/66 [==============================] - 0s 7ms/step - loss: 0.1512 - accuracy: 0.9503 - val_loss: 0.2370 - val_accuracy: 0.9221\n",
            "Epoch 9/10\n",
            "66/66 [==============================] - 0s 7ms/step - loss: 0.1345 - accuracy: 0.9569 - val_loss: 0.2409 - val_accuracy: 0.9236\n",
            "Epoch 10/10\n",
            "66/66 [==============================] - 0s 7ms/step - loss: 0.1202 - accuracy: 0.9617 - val_loss: 0.2503 - val_accuracy: 0.9189\n"
          ]
        }
      ],
      "source": [
        "fcn_train_history = fcn_model.fit(X_train, Y_train, epochs=10, batch_size = batch_size, verbose=1,\n",
        "                         validation_split = 0.2)"
      ]
    },
    {
      "cell_type": "code",
      "execution_count": 53,
      "id": "difficult-roller",
      "metadata": {
        "scrolled": true,
        "id": "difficult-roller",
        "outputId": "c154df89-6694-4d71-ff84-3451d4cf3269",
        "colab": {
          "base_uri": "https://localhost:8080/",
          "height": 313
        }
      },
      "outputs": [
        {
          "output_type": "execute_result",
          "data": {
            "text/plain": [
              "<matplotlib.legend.Legend at 0x7f6f4d827850>"
            ]
          },
          "metadata": {},
          "execution_count": 53
        },
        {
          "output_type": "display_data",
          "data": {
            "text/plain": [
              "<Figure size 432x288 with 1 Axes>"
            ],
            "image/png": "[encoded data removed]"
          },
          "metadata": {
            "needs_background": "light"
          }
        }
      ],
      "source": [
        "plt.plot(fcn_train_history.history['accuracy'])\n",
        "plt.plot(fcn_train_history.history['val_accuracy'])\n",
        "plt.title('model accuracy')\n",
        "plt.ylabel('accuracy')\n",
        "plt.xlabel('epoch')\n",
        "plt.legend(['train', 'valid'], loc='upper left')"
      ]
    },
    {
      "cell_type": "code",
      "execution_count": 54,
      "id": "olive-tribe",
      "metadata": {
        "id": "olive-tribe",
        "outputId": "b53860c3-c2fb-43c5-984b-3e7522820d4c",
        "colab": {
          "base_uri": "https://localhost:8080/",
          "height": 313
        }
      },
      "outputs": [
        {
          "output_type": "execute_result",
          "data": {
            "text/plain": [
              "<matplotlib.legend.Legend at 0x7f6f4e0b9d50>"
            ]
          },
          "metadata": {},
          "execution_count": 54
        },
        {
          "output_type": "display_data",
          "data": {
            "text/plain": [
              "<Figure size 432x288 with 1 Axes>"
            ],
            "image/png": "[encoded data removed]"
          },
          "metadata": {
            "needs_background": "light"
          }
        }
      ],
      "source": [
        "plt.plot(fcn_train_history.history['loss'])\n",
        "plt.plot(fcn_train_history.history['val_loss'])\n",
        "plt.title('model loss')\n",
        "plt.ylabel('accuracy')\n",
        "plt.xlabel('epoch')\n",
        "plt.legend(['train', 'valid'], loc='upper left')"
      ]
    },
    {
      "cell_type": "markdown",
      "id": "continental-seller",
      "metadata": {
        "id": "continental-seller"
      },
      "source": [
        "### 4-4. Result\n",
        "학습완료된 모델을 바탕으로 test set 예측을 통해서 성능을 확인합니다."
      ]
    },
    {
      "cell_type": "code",
      "execution_count": 59,
      "id": "focused-washer",
      "metadata": {
        "id": "focused-washer"
      },
      "outputs": [],
      "source": [
        "fcn_prob = fcn_model.predict(X_test)\n",
        "fcn_result = fcn_prob.argmax(axis=-1)"
      ]
    },
    {
      "cell_type": "code",
      "source": [
        "fcn_prob"
      ],
      "metadata": {
        "id": "2NSyZ8WHBbRb",
        "outputId": "5ef56db2-1ecc-4edd-a94d-5691c42c680e",
        "colab": {
          "base_uri": "https://localhost:8080/"
        }
      },
      "id": "2NSyZ8WHBbRb",
      "execution_count": 60,
      "outputs": [
        {
          "output_type": "execute_result",
          "data": {
            "text/plain": [
              "array([[0.05035313],\n",
              "       [0.21053708],\n",
              "       [0.25230852],\n",
              "       ...,\n",
              "       [0.00281567],\n",
              "       [0.00354234],\n",
              "       [0.00245973]], dtype=float32)"
            ]
          },
          "metadata": {},
          "execution_count": 60
        }
      ]
    },
    {
      "cell_type": "markdown",
      "id": "stock-idaho",
      "metadata": {
        "id": "stock-idaho"
      },
      "source": [
        "모델의 성능은 다음의 metric들로 확인할 수 있습니다.<br>\n",
        "의료 도메인에서는 **class imbalance가 매우 흔한 문제**입니다. (예를 들어 이 예제에서는 abnormal 비율이 적습니다.)<br>\n",
        "이러한 환경에서 보다 정확한 모델 평가를 위해서 다음과 같이 **여러 metric을 함께 확인**하는 것이 좋습니다."
      ]
    },
    {
      "cell_type": "markdown",
      "id": "scientific-blade",
      "metadata": {
        "id": "scientific-blade"
      },
      "source": [
        "precision = 모델이 True로 분류한 것 중 실제 True인 비율\n",
        "\n",
        "$$ precision = {True\\_positive \\over True\\_positive + False\\_positive} $$\n",
        "\n",
        "recall = 실제 Ture인 것 중에서 모델이 모델이 True라고 예측한 것의 비율\n",
        "\n",
        "$$ recall = {True\\_positive \\over True\\_positive + False\\_negative} $$\n",
        "\n",
        "F1 Score = Precision 과 Recall의 조화평균\n",
        "\n",
        "$$ F1\\_Score = 2 \\times { precision \\times recall \\over precision + recall} $$\n",
        "\n",
        "macro_avg = averaging the unweighted mean per label <br>\n",
        "weighted_avg = averaging the support-weighted mean per label"
      ]
    },
    {
      "cell_type": "code",
      "execution_count": 61,
      "id": "stunning-dependence",
      "metadata": {
        "id": "stunning-dependence",
        "outputId": "20b659af-e64b-428a-bdc0-02b1f3ce5fad",
        "colab": {
          "base_uri": "https://localhost:8080/"
        }
      },
      "outputs": [
        {
          "output_type": "stream",
          "name": "stdout",
          "text": [
            "              precision    recall  f1-score   support\n",
            "\n",
            "      normal       0.66      1.00      0.79     17745\n",
            "    abnormal       0.00      0.00      0.00      9186\n",
            "\n",
            "    accuracy                           0.66     26931\n",
            "   macro avg       0.33      0.50      0.40     26931\n",
            "weighted avg       0.43      0.66      0.52     26931\n",
            "\n"
          ]
        }
      ],
      "source": [
        "print(classification_report(Y_test, fcn_result, target_names=['normal', 'abnormal']))"
      ]
    },
    {
      "cell_type": "markdown",
      "id": "premier-criticism",
      "metadata": {
        "id": "premier-criticism"
      },
      "source": [
        "***"
      ]
    },
    {
      "cell_type": "markdown",
      "id": "atmospheric-image",
      "metadata": {
        "id": "atmospheric-image"
      },
      "source": [
        "## 5. Deep Learning model training - multiclass classification\n",
        "\n",
        "두번째 예제로 multiclass classification (다중클래스분류) 을 수행해 보겠습니다.<br>\n",
        "이진 분류보다는 조금 더 어려운 문제이므로 앞서 이진분류 모델의 FCN보다 조금 더 deep 한 Convolutaion Neural Network (CNN)을 사용합니다.<br>\n",
        "앞서 3-1. 데이터셋 구축 과정에서 추출해둔 `symbol`을 활용합니다."
      ]
    },
    {
      "cell_type": "code",
      "execution_count": 30,
      "id": "pacific-importance",
      "metadata": {
        "id": "pacific-importance"
      },
      "outputs": [],
      "source": [
        "from keras.models import Model\n",
        "from keras.layers import Layer, Dense, Dropout, Conv1D, MaxPooling1D, Add, Input, concatenate, multiply, dot, ReLU, Flatten \n",
        "from keras.callbacks import EarlyStopping, ModelCheckpoint\n",
        "from keras import metrics"
      ]
    },
    {
      "cell_type": "markdown",
      "id": "humanitarian-grill",
      "metadata": {
        "id": "humanitarian-grill"
      },
      "source": [
        "### 5-1. Prepare Dataset\n",
        "다중클래스분류 모델을 학습시키기 위해 Dataset의 약간의 preprocessing이 필요합니다.<br>\n",
        "딥러닝은 행렬연산의 연속이기 때문에 `symbol`을 수치로 변환해주어야 합니다.<br>\n",
        "각 `symbol`을 숫자 하나로 매칭시켜 dictionary를 만들고 변환해줍니다."
      ]
    },
    {
      "cell_type": "code",
      "execution_count": 31,
      "id": "impressed-steel",
      "metadata": {
        "id": "impressed-steel",
        "outputId": "51a1a903-03e5-415e-c5e7-056c29c455aa",
        "colab": {
          "base_uri": "https://localhost:8080/"
        }
      },
      "outputs": [
        {
          "output_type": "stream",
          "name": "stdout",
          "text": [
            "{'L': 0, 'R': 1, 'V': 2, '/': 3, 'A': 4, 'f': 5, 'F': 6, 'j': 7, 'a': 8, 'E': 9, 'J': 10, 'e': 11, 'S': 12, 'N': 13}\n",
            "{0: 'L', 1: 'R', 2: 'V', 3: '/', 4: 'A', 5: 'f', 6: 'F', 7: 'j', 8: 'a', 9: 'E', 10: 'J', 11: 'e', 12: 'S', 13: 'N'}\n"
          ]
        }
      ],
      "source": [
        "# make class and idx dictionary for multiclass classification\n",
        "target_classes = abnormal + ['N']\n",
        "symbol_idx_dict = dict(zip(target_classes, np.arange(len(target_classes))))\n",
        "idx_symbol_dict = {v: k for k, v in symbol_idx_dict.items()}\n",
        "print(symbol_idx_dict)\n",
        "print(idx_symbol_dict)"
      ]
    },
    {
      "cell_type": "code",
      "execution_count": 32,
      "id": "harmful-ethernet",
      "metadata": {
        "id": "harmful-ethernet"
      },
      "outputs": [],
      "source": [
        "# get symbol index value\n",
        "label_train = [symbol_idx_dict[label] for label in symbol_train]\n",
        "label_test = [symbol_idx_dict[label] for label in symbol_test]"
      ]
    },
    {
      "cell_type": "markdown",
      "id": "occupied-briefs",
      "metadata": {
        "id": "occupied-briefs"
      },
      "source": [
        "### 5-2. Define Convolutional Neural Network\n",
        "기본적인 구조는 FCN을 이용한 binary classification 때와 매우 흡사하지만 CNN 모델에 맞게 input shape을 수정해주어야 합니다.<br>\n",
        "CNN을 사용하기 위한 데이터에서는 input 이 (*batch_size, length, channel*)의 구조를 가져야 합니다.<br>\n",
        "우리 데이터의 경우 *channel* 수는 1 입니다.<br>\n",
        "<br>\n",
        "이번 강의에서 사용할 간단한 CNN 구조는 다음과 같습니다.<br>\n",
        "7개의 블록을 가지고 각 블록은 2개의 convolution layer와 residual path를 포함합니다.<br>\n",
        "residual path는 추후 모델 학습을 수월하게 하는 역할을 합니다.<br>\n",
        "`channel size`는 32로 하고 `kernel size`는 5로 합니다.<br>\n",
        "예측을 위한 classifier는 32개의 neuron을 갖는 2개의 layer로 구성합니다.<br>\n",
        "다중분류를 위해 모델의 **output에 `softmax` 함수를 사용하도록 변경**합니다."
      ]
    },
    {
      "cell_type": "code",
      "execution_count": 33,
      "id": "acknowledged-mileage",
      "metadata": {
        "id": "acknowledged-mileage"
      },
      "outputs": [],
      "source": [
        "batch_size = 2000\n",
        "num_classes = len(symbol_idx_dict)"
      ]
    },
    {
      "cell_type": "code",
      "execution_count": 34,
      "id": "southern-guatemala",
      "metadata": {
        "id": "southern-guatemala"
      },
      "outputs": [],
      "source": [
        "# Define input\n",
        "inp = Input(shape=(X_train.shape[1], 1))\n",
        "\n",
        "#stem\n",
        "x = Conv1D(filters=32, kernel_size=5, activation='relu')(inp)\n",
        "\n",
        "# block 1\n",
        "fx = Conv1D(filters=32, kernel_size=5, padding='same', activation='relu')(x)\n",
        "fx = Conv1D(filters=32, kernel_size=5, padding='same')(fx)\n",
        "out = Add()([x, fx])\n",
        "out = ReLU()(out)\n",
        "out = MaxPooling1D(pool_size=5, strides=2)(out)\n",
        "\n",
        "\n",
        "# block 2\n",
        "fx = Conv1D(filters=32, kernel_size=5, padding='same', activation='relu')(out)\n",
        "fx = Conv1D(filters=32, kernel_size=5, padding='same')(fx)\n",
        "out = Add()([out, fx])\n",
        "out = ReLU()(out)\n",
        "out = MaxPooling1D(pool_size=5, strides=2)(out)\n",
        "\n",
        "# block 3\n",
        "fx = Conv1D(filters=32, kernel_size=5, padding='same', activation='relu')(out)\n",
        "fx = Conv1D(filters=32, kernel_size=5, padding='same')(fx)\n",
        "out = Add()([out, fx])\n",
        "out = ReLU()(out)\n",
        "out = MaxPooling1D(pool_size=5, strides=2)(out)\n",
        "\n",
        "# block 4\n",
        "fx = Conv1D(filters=32, kernel_size=5, padding='same', activation='relu')(out)\n",
        "fx = Conv1D(filters=32, kernel_size=5, padding='same')(fx)\n",
        "out = Add()([out, fx])\n",
        "out = ReLU()(out)\n",
        "out = MaxPooling1D(pool_size=5, strides=2)(out)\n",
        "\n",
        "# block 5\n",
        "fx = Conv1D(filters=32, kernel_size=5, padding='same', activation='relu')(out)\n",
        "fx = Conv1D(filters=32, kernel_size=5, padding='same')(fx)\n",
        "out = Add()([out, fx])\n",
        "out = ReLU()(out)\n",
        "out = MaxPooling1D(pool_size=5, strides=2)(out)\n",
        "\n",
        "# block 6\n",
        "fx = Conv1D(filters=32, kernel_size=5, padding='same', activation='relu')(out)\n",
        "fx = Conv1D(filters=32, kernel_size=5, padding='same')(fx)\n",
        "out = Add()([out, fx])\n",
        "out = ReLU()(out)\n",
        "out = MaxPooling1D(pool_size=5, strides=2)(out)\n",
        "\n",
        "# block 7\n",
        "fx = Conv1D(filters=32, kernel_size=5, padding='same', activation='relu')(out)\n",
        "fx = Conv1D(filters=32, kernel_size=5, padding='same')(fx)\n",
        "out = Add()([out, fx])\n",
        "out = ReLU()(out)\n",
        "out = MaxPooling1D(pool_size=5, strides=2)(out)\n",
        "\n",
        "### =========== Your code here ====================\n",
        "\n",
        "# MLP layers\n",
        "out = Flatten()(out)\n",
        "out = Dense(32)(out)\n",
        "out = Dense(32)(out)\n",
        "out = Dense(num_classes, activation='softmax')(out)\n",
        "\n",
        "### ==============================================="
      ]
    },
    {
      "cell_type": "code",
      "source": [
        "inp"
      ],
      "metadata": {
        "id": "LzOBulSgC9jc",
        "outputId": "d440d22a-04ff-4bc8-a958-f20f80a53698",
        "colab": {
          "base_uri": "https://localhost:8080/"
        }
      },
      "id": "LzOBulSgC9jc",
      "execution_count": 63,
      "outputs": [
        {
          "output_type": "execute_result",
          "data": {
            "text/plain": [
              "<KerasTensor: shape=(None, 2160, 1) dtype=float32 (created by layer 'input_1')>"
            ]
          },
          "metadata": {},
          "execution_count": 63
        }
      ]
    },
    {
      "cell_type": "markdown",
      "id": "false-monitoring",
      "metadata": {
        "id": "false-monitoring"
      },
      "source": [
        "`Keras`에서는 모델을 compile 해주어야 합니다.<br>\n",
        "이 때 loss와 metric을 정해주게 되는데, 여기서는 `sparse_categorical_crossentropy`를 사용합니다.<br>\n",
        "`sparse_categorical_crossentropy`의 경우는 input shape이 instance별 class index가 나타나는 1-D array가 되는 반면, `categorical_crossentopy`의 경우는 one-hot encoding이 되거나 혹은 soft probaility가 label이 될 수 있는 label indicator array가 사용된다는 차이가 있습니다."
      ]
    },
    {
      "cell_type": "code",
      "execution_count": 65,
      "id": "duplicate-geography",
      "metadata": {
        "id": "duplicate-geography"
      },
      "outputs": [],
      "source": [
        "### =========== Your code here ====================\n",
        "\n",
        "cnn_model = Model(inputs=[inp], outputs=[out])\n",
        "adam_optimizer = tf.keras.optimizers.Adam(lr=0.00005)\n",
        "cnn_model.compile(loss='sparse_categorical_crossentropy', optimizer=adam_optimizer, metrics=['accuracy'])\n",
        "\n",
        "\n",
        "### ==============================================="
      ]
    },
    {
      "cell_type": "markdown",
      "id": "incorporate-record",
      "metadata": {
        "id": "incorporate-record"
      },
      "source": [
        "모델의 구조는 다음과 같습니다."
      ]
    },
    {
      "cell_type": "code",
      "execution_count": null,
      "id": "geographic-mechanics",
      "metadata": {
        "id": "geographic-mechanics"
      },
      "outputs": [],
      "source": [
        "cnn_model.summary()"
      ]
    },
    {
      "cell_type": "markdown",
      "id": "functioning-precipitation",
      "metadata": {
        "id": "functioning-precipitation"
      },
      "source": [
        "### 5-3. Model fitting\n",
        "\n",
        "다중클래스분류 모델을 학습시킵니다.<br>\n",
        "학습 결과를 `train_history`에 저장하고 학습 과정동안의 loss 변화와 accuracy 변화를 확인합니다.<br>\n",
        "Training 데이터의 일부 (여기서는 20%) 를 validation을 위해 사용합니다.\n"
      ]
    },
    {
      "cell_type": "code",
      "execution_count": 71,
      "id": "seeing-viewer",
      "metadata": {
        "id": "seeing-viewer",
        "outputId": "4ee660ab-24ae-4491-98da-dbd637256994",
        "colab": {
          "base_uri": "https://localhost:8080/"
        }
      },
      "outputs": [
        {
          "output_type": "stream",
          "name": "stdout",
          "text": [
            "Epoch 1/10\n",
            "66/66 [==============================] - 12s 167ms/step - loss: 2.8333 - accuracy: 0.5760 - val_loss: 0.7814 - val_accuracy: 0.8566\n",
            "Epoch 2/10\n",
            "66/66 [==============================] - 11s 161ms/step - loss: 1.0528 - accuracy: 0.6778 - val_loss: 0.7000 - val_accuracy: 0.8511\n",
            "Epoch 3/10\n",
            "66/66 [==============================] - 11s 161ms/step - loss: 0.8007 - accuracy: 0.7602 - val_loss: 0.6339 - val_accuracy: 0.8609\n",
            "Epoch 4/10\n",
            "66/66 [==============================] - 11s 161ms/step - loss: 0.5958 - accuracy: 0.8476 - val_loss: 0.5679 - val_accuracy: 0.8673\n",
            "Epoch 5/10\n",
            "66/66 [==============================] - 11s 162ms/step - loss: 0.4393 - accuracy: 0.8962 - val_loss: 0.4849 - val_accuracy: 0.8809\n",
            "Epoch 6/10\n",
            "66/66 [==============================] - 11s 161ms/step - loss: 0.3465 - accuracy: 0.9151 - val_loss: 0.4539 - val_accuracy: 0.8878\n",
            "Epoch 7/10\n",
            "66/66 [==============================] - 11s 161ms/step - loss: 0.2916 - accuracy: 0.9266 - val_loss: 0.4224 - val_accuracy: 0.9023\n",
            "Epoch 8/10\n",
            "66/66 [==============================] - 11s 163ms/step - loss: 0.2568 - accuracy: 0.9344 - val_loss: 0.4051 - val_accuracy: 0.9070\n",
            "Epoch 9/10\n",
            "66/66 [==============================] - 11s 162ms/step - loss: 0.2338 - accuracy: 0.9405 - val_loss: 0.4022 - val_accuracy: 0.9085\n",
            "Epoch 10/10\n",
            "66/66 [==============================] - 11s 162ms/step - loss: 0.2174 - accuracy: 0.9447 - val_loss: 0.3806 - val_accuracy: 0.9185\n"
          ]
        }
      ],
      "source": [
        "### =========== Your code here ====================\n",
        "\n",
        "cnn_train_history = cnn_model.fit(X_train, np.array(label_train), epochs=10, batch_size = batch_size, verbose=1,\n",
        "                         validation_split = 0.2)\n",
        "\n",
        "### ==============================================="
      ]
    },
    {
      "cell_type": "code",
      "execution_count": 72,
      "id": "opposite-construction",
      "metadata": {
        "id": "opposite-construction",
        "outputId": "b990d0da-9df5-4498-d991-a233d808bf1a",
        "colab": {
          "base_uri": "https://localhost:8080/",
          "height": 313
        }
      },
      "outputs": [
        {
          "output_type": "execute_result",
          "data": {
            "text/plain": [
              "<matplotlib.legend.Legend at 0x7f6e8126ea50>"
            ]
          },
          "metadata": {},
          "execution_count": 72
        },
        {
          "output_type": "display_data",
          "data": {
            "text/plain": [
              "<Figure size 432x288 with 1 Axes>"
            ],
            "image/png": "[encoded data removed]"
          },
          "metadata": {
            "needs_background": "light"
          }
        }
      ],
      "source": [
        "### =========== Your code here ====================\n",
        "\n",
        "# plt.plot(    )\n",
        "# plt.plot(    )\n",
        "# plt.title('model accuracy')\n",
        "# plt.ylabel('accuracy')\n",
        "# plt.xlabel('epoch')\n",
        "# plt.legend(['train', 'valid'], loc='upper left')\n",
        "\n",
        "plt.plot(cnn_train_history.history['accuracy'])\n",
        "plt.plot(cnn_train_history.history['val_accuracy'])\n",
        "plt.title('model accuracy')\n",
        "plt.ylabel('accuracy')\n",
        "plt.xlabel('epoch')\n",
        "plt.legend(['train', 'valid'], loc='upper left')\n",
        "### ==============================================="
      ]
    },
    {
      "cell_type": "code",
      "execution_count": 73,
      "id": "upset-contrary",
      "metadata": {
        "id": "upset-contrary",
        "outputId": "c21807f6-c944-468c-b6ca-a1a8bc0193ba",
        "colab": {
          "base_uri": "https://localhost:8080/",
          "height": 313
        }
      },
      "outputs": [
        {
          "output_type": "execute_result",
          "data": {
            "text/plain": [
              "<matplotlib.legend.Legend at 0x7f702007ba90>"
            ]
          },
          "metadata": {},
          "execution_count": 73
        },
        {
          "output_type": "display_data",
          "data": {
            "text/plain": [
              "<Figure size 432x288 with 1 Axes>"
            ],
            "image/png": "[encoded data removed]"
          },
          "metadata": {
            "needs_background": "light"
          }
        }
      ],
      "source": [
        "### =========== Your code here ====================\n",
        "\n",
        "\n",
        "plt.plot(cnn_train_history.history['loss'])\n",
        "plt.plot(cnn_train_history.history['val_loss'])\n",
        "plt.title('model loss')\n",
        "plt.ylabel('loss')\n",
        "plt.xlabel('epoch')\n",
        "plt.legend(['train', 'valid'], loc='upper left')\n",
        "\n",
        "### ==============================================="
      ]
    },
    {
      "cell_type": "markdown",
      "id": "gross-going",
      "metadata": {
        "id": "gross-going"
      },
      "source": [
        "### 5-4. Result\n",
        "\n",
        "학습된 모델을 바탕으로 test set을 추론합니다.<br>\n",
        "추론의 결과는 softmax 결과로 나온 확률값을 반환하기 때문에 `argmax`를 통해 클래스를 지정해주어야 합니다.<br> \n"
      ]
    },
    {
      "cell_type": "code",
      "execution_count": 74,
      "id": "deluxe-austria",
      "metadata": {
        "id": "deluxe-austria"
      },
      "outputs": [],
      "source": [
        "cnn_result = cnn_model.predict(X_test)\n",
        "cnn_result_class = np.argmax(cnn_result, axis=1)"
      ]
    },
    {
      "cell_type": "code",
      "execution_count": 75,
      "id": "familiar-evans",
      "metadata": {
        "id": "familiar-evans",
        "outputId": "e6379dc2-3296-436e-a050-bb166d3212e8",
        "colab": {
          "base_uri": "https://localhost:8080/"
        }
      },
      "outputs": [
        {
          "output_type": "stream",
          "name": "stdout",
          "text": [
            "[[7.0986920e-05 2.0219951e-03 1.3216833e-03 ... 3.8660562e-07\n",
            "  1.6607546e-05 9.9515462e-01]\n",
            " [1.1590236e-04 7.0346161e-03 1.3015051e-03 ... 2.8519387e-06\n",
            "  8.2991364e-06 9.9000412e-01]\n",
            " [9.1497335e-05 6.1587142e-03 5.0285906e-03 ... 3.3213171e-06\n",
            "  1.2738528e-05 9.8430902e-01]\n",
            " ...\n",
            " [2.8237866e-06 3.2346495e-03 1.1029991e-03 ... 1.8647739e-06\n",
            "  4.6297000e-06 9.9048179e-01]\n",
            " [1.7420854e-06 5.1934418e-04 3.1170418e-04 ... 3.6261719e-07\n",
            "  1.2790922e-06 9.9719232e-01]\n",
            " [6.8427630e-07 1.4412930e-04 1.1287540e-03 ... 3.8212445e-08\n",
            "  2.6316394e-07 9.9814034e-01]]\n"
          ]
        }
      ],
      "source": [
        "print(cnn_result)"
      ]
    },
    {
      "cell_type": "code",
      "execution_count": 76,
      "id": "comic-ticket",
      "metadata": {
        "id": "comic-ticket",
        "outputId": "6934df8e-ace2-4c0e-95f4-f1d2d39f4e65",
        "colab": {
          "base_uri": "https://localhost:8080/"
        }
      },
      "outputs": [
        {
          "output_type": "stream",
          "name": "stdout",
          "text": [
            "[13 13 13 ... 13 13 13]\n"
          ]
        }
      ],
      "source": [
        "print(cnn_result_class)"
      ]
    },
    {
      "cell_type": "markdown",
      "id": "revolutionary-collar",
      "metadata": {
        "id": "revolutionary-collar"
      },
      "source": [
        "classification report를 출력합니다. <br>\n",
        "만약 추론 결과값 내에 모든 클래스 (여기서는 0~13 의 14개 클래스)가 포함되어 있다면 class index만 기록된 1-D array를 그대로 사용해도 관게 없습니다. 그러나 우리 데이터와 같이 class imbalance 가 심하여 test set에 모든 클래스가 포함되지 않을 수 있는 경우, label indicator array를 만들어 confusion matix를 계산해야 합니다. <br>\n",
        "`label_binarize` 함수를 통해 쉽게 변환할 수 있습니다."
      ]
    },
    {
      "cell_type": "code",
      "execution_count": 77,
      "id": "meaningful-ridge",
      "metadata": {
        "id": "meaningful-ridge"
      },
      "outputs": [],
      "source": [
        "cnn_result_binarized = label_binarize(cnn_result_class, classes = list(symbol_idx_dict.values()))\n",
        "label_test_binarized = label_binarize(label_test, classes = list(symbol_idx_dict.values()))"
      ]
    },
    {
      "cell_type": "code",
      "execution_count": 78,
      "id": "balanced-portfolio",
      "metadata": {
        "id": "balanced-portfolio",
        "outputId": "eac1ba69-7e76-4ea6-db92-824146bf8199",
        "colab": {
          "base_uri": "https://localhost:8080/"
        }
      },
      "outputs": [
        {
          "output_type": "stream",
          "name": "stdout",
          "text": [
            "              precision    recall  f1-score   support\n",
            "\n",
            "           L       0.99      0.65      0.79      2483\n",
            "           R       0.97      0.75      0.84      1644\n",
            "           V       0.61      0.62      0.62      1211\n",
            "           /       0.97      0.97      0.97      2071\n",
            "           A       0.00      0.00      0.00      1767\n",
            "           f       0.00      0.00      0.00         0\n",
            "           F       0.00      0.00      0.00         3\n",
            "           j       0.00      0.00      0.00         1\n",
            "           a       0.00      0.00      0.00         6\n",
            "           E       0.00      0.00      0.00         0\n",
            "           J       0.00      0.00      0.00         0\n",
            "           e       0.00      0.00      0.00         0\n",
            "           S       0.00      0.00      0.00         0\n",
            "           N       0.86      1.00      0.92     17745\n",
            "\n",
            "   micro avg       0.87      0.87      0.87     26931\n",
            "   macro avg       0.31      0.29      0.30     26931\n",
            "weighted avg       0.82      0.87      0.83     26931\n",
            " samples avg       0.87      0.87      0.87     26931\n",
            "\n"
          ]
        }
      ],
      "source": [
        "print(classification_report(label_test_binarized, cnn_result_binarized, target_names=list(idx_symbol_dict.values())))"
      ]
    },
    {
      "cell_type": "markdown",
      "id": "abstract-monitor",
      "metadata": {
        "id": "abstract-monitor"
      },
      "source": [
        "클래스 별 roc curve를 다음과 같이 출력하여 성능을 확인할 수 있습니다.<br>\n",
        "micro averaging을 통해 전체 클래스의 평균 roc 커브를 plotting 합니다."
      ]
    },
    {
      "cell_type": "code",
      "execution_count": 80,
      "id": "significant-thunder",
      "metadata": {
        "id": "significant-thunder"
      },
      "outputs": [],
      "source": [
        "fpr = {}\n",
        "tpr = {}\n",
        "thresh = {}\n",
        "roc_auc = {}\n",
        "for i in range(num_classes):\n",
        "    fpr[i], tpr[i], thresh[i] = roc_curve(label_test_binarized[:, i], \n",
        "                                          cnn_result[:,i])\n",
        "    roc_auc[i] = auc(fpr[i], tpr[i])\n",
        "    \n",
        "fpr['micro'], tpr['micro'], thresh['micro'] = roc_curve(label_test_binarized.ravel(), \n",
        "                                                                cnn_result.ravel())\n",
        "roc_auc['micro'] = auc(fpr['micro'], tpr['micro'])        \n",
        "roc_score = roc_auc['micro']"
      ]
    },
    {
      "cell_type": "code",
      "execution_count": 81,
      "id": "saving-anime",
      "metadata": {
        "id": "saving-anime",
        "outputId": "020ba6de-db0b-43b1-bbd7-7fbb3e8ba071",
        "colab": {
          "base_uri": "https://localhost:8080/",
          "height": 285
        }
      },
      "outputs": [
        {
          "output_type": "display_data",
          "data": {
            "text/plain": [
              "<Figure size 432x288 with 1 Axes>"
            ],
            "image/png": "[encoded data removed]"
          },
          "metadata": {
            "needs_background": "light"
          }
        }
      ],
      "source": [
        "plot_fpr, plot_tpr, plot_thresh, plot_roc_auc = (fpr, tpr, thresh, roc_auc)\n",
        "lw=2\n",
        "# Plot all ROC curves\n",
        "plt.figure()\n",
        "\n",
        "colors = cycle(['lightcoral', 'brown', 'sandybrown',\n",
        "                'peru', 'darkorange', 'navajowhite',\n",
        "                'yellow', 'darkkhaki', 'olive', \n",
        "                'lightgreen', 'lime', 'teal',\n",
        "                'aqua', 'lightseagreen', 'deepskyblue',\n",
        "                'cornflowerblue', 'navy', 'slateblue', \n",
        "               'blueviolet', 'plum', 'pink'])\n",
        "\n",
        "for i, ((symbol, symidx), color) in enumerate(zip(symbol_idx_dict.items(), colors)):\n",
        "    plt.plot(plot_fpr[i], plot_tpr[i], color=color, lw=lw,\n",
        "             label='ROC curve of class {} (area = {:.2f})'.format(str(symbol), plot_roc_auc[i]))\n",
        "    \n",
        "plt.plot(plot_fpr[\"micro\"], plot_tpr[\"micro\"],\n",
        "     label='micro-average ROC curve (area = {0:0.2f})'\n",
        "           ''.format(plot_roc_auc[\"micro\"]),\n",
        "     color='deeppink', linestyle=':', linewidth=4)\n",
        "\n",
        "plt.plot([0, 1], [0, 1], 'k--', lw=lw)\n",
        "plt.xlim([0.0, 1.0])\n",
        "plt.ylim([0.0, 1.05])\n",
        "plt.xlabel('False Positive Rate')\n",
        "plt.ylabel('True Positive Rate')\n",
        "plt.legend(loc='center left', bbox_to_anchor=(1, 0.5))\n",
        "plt.show()"
      ]
    }
  ],
  "metadata": {
    "kernelspec": {
      "display_name": "keras",
      "language": "python",
      "name": "lims1_keras"
    },
    "language_info": {
      "codemirror_mode": {
        "name": "ipython",
        "version": 3
      },
      "file_extension": ".py",
      "mimetype": "text/x-python",
      "name": "python",
      "nbconvert_exporter": "python",
      "pygments_lexer": "ipython3",
      "version": "3.8.12"
    },
    "colab": {
      "provenance": [],
      "machine_shape": "hm",
      "include_colab_link": true
    },
    "accelerator": "GPU",
    "gpuClass": "standard"
  },
  "nbformat": 4,
  "nbformat_minor": 5
}