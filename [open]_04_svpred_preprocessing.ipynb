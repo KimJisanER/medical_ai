{
  "cells": [
    {
      "cell_type": "markdown",
      "metadata": {
        "id": "view-in-github",
        "colab_type": "text"
      },
      "source": [
        "<a href=\"https://colab.research.google.com/github/KimJisanER/medical_ai/blob/main/%5Bopen%5D_04_svpred_preprocessing.ipynb\" target=\"_parent\"><img src=\"https://colab.research.google.com/assets/colab-badge.svg\" alt=\"Open In Colab\"/></a>"
      ]
    },
    {
      "cell_type": "markdown",
      "metadata": {
        "id": "zKVQCS9VkIvp"
      },
      "source": [
        "# 의료인공지능 전문가 양성과정 2022\n",
        "## VitalDB Tutorial <br> Stroke volume prediction using arterial wave - preprocessing\n",
        "- Date : Sep. 03, 2022\n",
        "- Author : **Hyun-Lim Yang, Ph.D.**<br>\n",
        "Research Assistant Professor @\n",
        "Seoul National University Hospital <br>\n",
        "Department of Anesthesiology and Pain Medicine\n",
        "- E-mail : hlyang{_at_}snu{_dot_}ac{_dot_}kr\n",
        "***"
      ]
    },
    {
      "cell_type": "code",
      "execution_count": 1,
      "metadata": {
        "id": "GFCL8aqnkIvt",
        "outputId": "83436a97-8052-4b7b-cc73-00d944653e70",
        "colab": {
          "base_uri": "https://localhost:8080/",
          "height": 17
        }
      },
      "outputs": [
        {
          "output_type": "execute_result",
          "data": {
            "text/plain": [
              "<IPython.core.display.HTML object>"
            ],
            "text/html": [
              "<style>div.warn { background-color: #fcf2f2;border-color: #dFb5b4; border-left: 5px solid #dfb5b4; padding: 0.5em;}</style>"
            ]
          },
          "metadata": {},
          "execution_count": 1
        }
      ],
      "source": [
        "from IPython.display import HTML\n",
        "style_warn = \"<style>div.warn { background-color: #fcf2f2;border-color: #dFb5b4; border-left: 5px solid #dfb5b4; padding: 0.5em;}</style>\"\n",
        "HTML(style_warn)"
      ]
    },
    {
      "cell_type": "markdown",
      "metadata": {
        "id": "iz6QEGwSkIvv"
      },
      "source": [
        "### Import packages"
      ]
    },
    {
      "cell_type": "markdown",
      "metadata": {
        "id": "b2RX3xVjkIvv"
      },
      "source": [
        "<div class=\"warn\">**Warning!** : use your directory at `download_directory`</div>\n"
      ]
    },
    {
      "cell_type": "markdown",
      "metadata": {
        "id": "YF9zAjwjkIvw"
      },
      "source": [
        "> **Wargning** <br>\n",
        "> colab 환경을 위한 google drive import 코드가 포함되어 있습니다. <br>\n",
        "> 로컬 환경에서 실행 시 colab을 위한 import function들을 comment out 한 뒤 실행하세요. "
      ]
    },
    {
      "cell_type": "code",
      "execution_count": 2,
      "metadata": {
        "id": "I8RsPpyhkIvw",
        "outputId": "f3342b18-e457-467d-aa47-dff3524f4029",
        "colab": {
          "base_uri": "https://localhost:8080/"
        }
      },
      "outputs": [
        {
          "output_type": "stream",
          "name": "stdout",
          "text": [
            "Looking in indexes: https://pypi.org/simple, https://us-python.pkg.dev/colab-wheels/public/simple/\n",
            "Requirement already satisfied: vitaldb in /usr/local/lib/python3.7/dist-packages (1.2.3)\n",
            "Requirement already satisfied: s3fs in /usr/local/lib/python3.7/dist-packages (from vitaldb) (2022.8.2)\n",
            "Requirement already satisfied: wfdb in /usr/local/lib/python3.7/dist-packages (from vitaldb) (4.0.0)\n",
            "Requirement already satisfied: numpy in /usr/local/lib/python3.7/dist-packages (from vitaldb) (1.21.6)\n",
            "Requirement already satisfied: pyarrow in /usr/local/lib/python3.7/dist-packages (from vitaldb) (6.0.1)\n",
            "Requirement already satisfied: pandas in /usr/local/lib/python3.7/dist-packages (from vitaldb) (1.3.5)\n",
            "Requirement already satisfied: requests in /usr/local/lib/python3.7/dist-packages (from vitaldb) (2.23.0)\n",
            "Requirement already satisfied: python-dateutil>=2.7.3 in /usr/local/lib/python3.7/dist-packages (from pandas->vitaldb) (2.8.2)\n",
            "Requirement already satisfied: pytz>=2017.3 in /usr/local/lib/python3.7/dist-packages (from pandas->vitaldb) (2022.2.1)\n",
            "Requirement already satisfied: six>=1.5 in /usr/local/lib/python3.7/dist-packages (from python-dateutil>=2.7.3->pandas->vitaldb) (1.15.0)\n",
            "Requirement already satisfied: urllib3!=1.25.0,!=1.25.1,<1.26,>=1.21.1 in /usr/local/lib/python3.7/dist-packages (from requests->vitaldb) (1.25.11)\n",
            "Requirement already satisfied: chardet<4,>=3.0.2 in /usr/local/lib/python3.7/dist-packages (from requests->vitaldb) (3.0.4)\n",
            "Requirement already satisfied: certifi>=2017.4.17 in /usr/local/lib/python3.7/dist-packages (from requests->vitaldb) (2022.6.15)\n",
            "Requirement already satisfied: idna<3,>=2.5 in /usr/local/lib/python3.7/dist-packages (from requests->vitaldb) (2.10)\n",
            "Requirement already satisfied: fsspec==2022.8.2 in /usr/local/lib/python3.7/dist-packages (from s3fs->vitaldb) (2022.8.2)\n",
            "Requirement already satisfied: aiohttp!=4.0.0a0,!=4.0.0a1 in /usr/local/lib/python3.7/dist-packages (from s3fs->vitaldb) (3.8.1)\n",
            "Requirement already satisfied: aiobotocore~=2.4.0 in /usr/local/lib/python3.7/dist-packages (from s3fs->vitaldb) (2.4.0)\n",
            "Requirement already satisfied: botocore<1.27.60,>=1.27.59 in /usr/local/lib/python3.7/dist-packages (from aiobotocore~=2.4.0->s3fs->vitaldb) (1.27.59)\n",
            "Requirement already satisfied: wrapt>=1.10.10 in /usr/local/lib/python3.7/dist-packages (from aiobotocore~=2.4.0->s3fs->vitaldb) (1.14.1)\n",
            "Requirement already satisfied: aioitertools>=0.5.1 in /usr/local/lib/python3.7/dist-packages (from aiobotocore~=2.4.0->s3fs->vitaldb) (0.10.0)\n",
            "Requirement already satisfied: multidict<7.0,>=4.5 in /usr/local/lib/python3.7/dist-packages (from aiohttp!=4.0.0a0,!=4.0.0a1->s3fs->vitaldb) (6.0.2)\n",
            "Requirement already satisfied: aiosignal>=1.1.2 in /usr/local/lib/python3.7/dist-packages (from aiohttp!=4.0.0a0,!=4.0.0a1->s3fs->vitaldb) (1.2.0)\n",
            "Requirement already satisfied: async-timeout<5.0,>=4.0.0a3 in /usr/local/lib/python3.7/dist-packages (from aiohttp!=4.0.0a0,!=4.0.0a1->s3fs->vitaldb) (4.0.2)\n",
            "Requirement already satisfied: frozenlist>=1.1.1 in /usr/local/lib/python3.7/dist-packages (from aiohttp!=4.0.0a0,!=4.0.0a1->s3fs->vitaldb) (1.3.1)\n",
            "Requirement already satisfied: asynctest==0.13.0 in /usr/local/lib/python3.7/dist-packages (from aiohttp!=4.0.0a0,!=4.0.0a1->s3fs->vitaldb) (0.13.0)\n",
            "Requirement already satisfied: typing-extensions>=3.7.4 in /usr/local/lib/python3.7/dist-packages (from aiohttp!=4.0.0a0,!=4.0.0a1->s3fs->vitaldb) (4.1.1)\n",
            "Requirement already satisfied: attrs>=17.3.0 in /usr/local/lib/python3.7/dist-packages (from aiohttp!=4.0.0a0,!=4.0.0a1->s3fs->vitaldb) (22.1.0)\n",
            "Requirement already satisfied: charset-normalizer<3.0,>=2.0 in /usr/local/lib/python3.7/dist-packages (from aiohttp!=4.0.0a0,!=4.0.0a1->s3fs->vitaldb) (2.1.1)\n",
            "Requirement already satisfied: yarl<2.0,>=1.0 in /usr/local/lib/python3.7/dist-packages (from aiohttp!=4.0.0a0,!=4.0.0a1->s3fs->vitaldb) (1.8.1)\n",
            "Requirement already satisfied: jmespath<2.0.0,>=0.7.1 in /usr/local/lib/python3.7/dist-packages (from botocore<1.27.60,>=1.27.59->aiobotocore~=2.4.0->s3fs->vitaldb) (1.0.1)\n",
            "Requirement already satisfied: scipy<2.0.0,>=1.0.0 in /usr/local/lib/python3.7/dist-packages (from wfdb->vitaldb) (1.7.3)\n",
            "Requirement already satisfied: SoundFile<0.12.0,>=0.10.0 in /usr/local/lib/python3.7/dist-packages (from wfdb->vitaldb) (0.10.3.post1)\n",
            "Requirement already satisfied: matplotlib<4.0.0,>=3.2.2 in /usr/local/lib/python3.7/dist-packages (from wfdb->vitaldb) (3.2.2)\n",
            "Requirement already satisfied: cycler>=0.10 in /usr/local/lib/python3.7/dist-packages (from matplotlib<4.0.0,>=3.2.2->wfdb->vitaldb) (0.11.0)\n",
            "Requirement already satisfied: pyparsing!=2.0.4,!=2.1.2,!=2.1.6,>=2.0.1 in /usr/local/lib/python3.7/dist-packages (from matplotlib<4.0.0,>=3.2.2->wfdb->vitaldb) (3.0.9)\n",
            "Requirement already satisfied: kiwisolver>=1.0.1 in /usr/local/lib/python3.7/dist-packages (from matplotlib<4.0.0,>=3.2.2->wfdb->vitaldb) (1.4.4)\n",
            "Requirement already satisfied: cffi>=1.0 in /usr/local/lib/python3.7/dist-packages (from SoundFile<0.12.0,>=0.10.0->wfdb->vitaldb) (1.15.1)\n",
            "Requirement already satisfied: pycparser in /usr/local/lib/python3.7/dist-packages (from cffi>=1.0->SoundFile<0.12.0,>=0.10.0->wfdb->vitaldb) (2.21)\n"
          ]
        }
      ],
      "source": [
        "!pip install vitaldb"
      ]
    },
    {
      "cell_type": "code",
      "execution_count": 3,
      "metadata": {
        "id": "LHrsxn8zkIvx",
        "outputId": "111ecb40-dfe5-4333-fcdc-1bda7e2170f3",
        "colab": {
          "base_uri": "https://localhost:8080/"
        }
      },
      "outputs": [
        {
          "output_type": "stream",
          "name": "stdout",
          "text": [
            "Drive already mounted at /content/gdrive/; to attempt to forcibly remount, call drive.mount(\"/content/gdrive/\", force_remount=True).\n"
          ]
        }
      ],
      "source": [
        "from google.colab import drive  # for colab\n",
        "drive.mount('/content/gdrive/')  # for colab"
      ]
    },
    {
      "cell_type": "code",
      "execution_count": 4,
      "metadata": {
        "id": "_QEow_CVkIvx",
        "outputId": "cc4c0868-4de0-4b42-e1d2-fb895935701d",
        "colab": {
          "base_uri": "https://localhost:8080/"
        }
      },
      "outputs": [
        {
          "output_type": "execute_result",
          "data": {
            "text/plain": [
              "['datasets',\n",
              " 'kohi_preprocessor.py',\n",
              " 'sample_csv',\n",
              " '__init__.py',\n",
              " '__pycache__',\n",
              " 'kohi_CNN_model_archi.png']"
            ]
          },
          "metadata": {},
          "execution_count": 4
        }
      ],
      "source": [
        "import os\n",
        "cloud_directory = '/content/gdrive/My Drive/KOHI_2022_CNN_data_open/'\n",
        "os.listdir(cloud_directory) # for colab, check cloud directory mount"
      ]
    },
    {
      "cell_type": "code",
      "execution_count": 5,
      "metadata": {
        "id": "oqT-iN4ikIvy"
      },
      "outputs": [],
      "source": [
        "import sys\n",
        "#download_directory = os.getcwd() # for local environments\n",
        "#sys.path.append(download_directory) # for local environments\n",
        "sys.path.append(cloud_directory) # for colab"
      ]
    },
    {
      "cell_type": "code",
      "execution_count": 6,
      "metadata": {
        "id": "yKlUL1zwkIvz"
      },
      "outputs": [],
      "source": [
        "import os\n",
        "import sys\n",
        "# download_directory = os.getcwd() # for local environments\n",
        "# sys.path.append(download_directory) # for local environments"
      ]
    },
    {
      "cell_type": "code",
      "execution_count": 7,
      "metadata": {
        "id": "3q7we5xCkIvz"
      },
      "outputs": [],
      "source": [
        "import numpy as np\n",
        "import pandas as pd\n",
        "import glob\n",
        "import kohi_preprocessor as pre\n",
        "import vitaldb\n",
        "from tqdm import tqdm\n",
        "import warnings\n",
        "warnings.filterwarnings(action='ignore')\n",
        "\n",
        "download_directory = cloud_directory # for colab"
      ]
    },
    {
      "cell_type": "markdown",
      "metadata": {
        "id": "elh_S_NKkIvz"
      },
      "source": [
        "### Data loading\n",
        "샘플 파일을 vitaldb 서버로 부터 직접 다운받아 로드"
      ]
    },
    {
      "cell_type": "markdown",
      "metadata": {
        "id": "tdsZBbQAkIv0"
      },
      "source": [
        "> **TODO:** `00019.vital`을 100hz로 변환하여 `chart_pd_01`에 DataFrame으로 저장하기"
      ]
    },
    {
      "cell_type": "code",
      "execution_count": 8,
      "metadata": {
        "id": "o5V61dVmkIv0",
        "outputId": "540df534-6829-4120-c35b-fad29e3f9741",
        "colab": {
          "base_uri": "https://localhost:8080/"
        }
      },
      "outputs": [
        {
          "output_type": "stream",
          "name": "stdout",
          "text": [
            "Index(['EV1000/SV', 'SNUADC/ART'], dtype='object')\n"
          ]
        }
      ],
      "source": [
        "track_names = [\"EV1000/SV\", \"SNUADC/ART\"]\n",
        "### =========== Your code here ====================\n",
        "\n",
        "vitalfile = vitaldb.VitalFile(19,track_names=track_names)\n",
        "chart_pd_01 = vitalfile.to_pandas(track_names, interval=1/100)\n",
        "\n",
        "### ===============================================\n",
        "\n",
        "print(chart_pd_01.columns)"
      ]
    },
    {
      "cell_type": "code",
      "execution_count": 9,
      "metadata": {
        "id": "I06PgDQrkIv0"
      },
      "outputs": [],
      "source": [
        "col_svs = 'EV1000/SV'\n",
        "col_art = 'SNUADC/ART'"
      ]
    },
    {
      "cell_type": "markdown",
      "metadata": {
        "id": "vdYa-d7NkIv1"
      },
      "source": [
        "### Stroke volume 데이터 추출"
      ]
    },
    {
      "cell_type": "code",
      "execution_count": 10,
      "metadata": {
        "id": "qPz1UHT8kIv1",
        "outputId": "69701a74-244d-412d-e0f2-498f813fd192",
        "colab": {
          "base_uri": "https://localhost:8080/"
        }
      },
      "outputs": [
        {
          "output_type": "stream",
          "name": "stdout",
          "text": [
            "53845    61.0\n",
            "54008    61.0\n",
            "54208    61.0\n",
            "54408    61.0\n",
            "54607    61.0\n",
            "Name: EV1000/SV, dtype: float32\n"
          ]
        }
      ],
      "source": [
        "# stroke volume 데이터 추출\n",
        "### =========== Your code here ====================\n",
        "\n",
        "svs_data_pd = chart_pd_01[col_svs][chart_pd_01[col_svs].notnull()]\n",
        "svs_index = svs_data_pd.index.values\n",
        "\n",
        "### ===============================================\n",
        "print(svs_data_pd.head())"
      ]
    },
    {
      "cell_type": "markdown",
      "metadata": {
        "id": "oOabwWIUkIv1"
      },
      "source": [
        "### arterial wave 데이터 추출 및 nan 지우기"
      ]
    },
    {
      "cell_type": "code",
      "execution_count": 11,
      "metadata": {
        "id": "HZptfF7rkIv1",
        "outputId": "6cc07324-f75b-4cf6-d207-4f78e2966e66",
        "colab": {
          "base_uri": "https://localhost:8080/"
        }
      },
      "outputs": [
        {
          "output_type": "stream",
          "name": "stdout",
          "text": [
            "0    0.0\n",
            "1    0.0\n",
            "2    0.0\n",
            "3    0.0\n",
            "4    0.0\n",
            "Name: SNUADC/ART, dtype: float32\n"
          ]
        }
      ],
      "source": [
        "# art 데이터 전체 추출 및 nan value 채우기\n",
        "### =========== Your code here ====================\n",
        "\n",
        "art_full_pd = chart_pd_01[col_art]\n",
        "art_full_pd = art_full_pd.fillna(0)\n",
        "\n",
        "### ===============================================\n",
        "\n",
        "print(art_full_pd.head())"
      ]
    },
    {
      "cell_type": "markdown",
      "metadata": {
        "id": "MPvPm70hkIv2"
      },
      "source": [
        "### 데이터셋 만들기\n",
        "필요한 파라미터들 정의"
      ]
    },
    {
      "cell_type": "code",
      "execution_count": 12,
      "metadata": {
        "id": "lbEzOAaDkIv2"
      },
      "outputs": [],
      "source": [
        "# 필요한 파라미터들 정의\n",
        "srate = 100\n",
        "length = 20\n",
        "max_limit_svs = 200 # svs max : 200\n",
        "min_limit_svs = 20  # svs min : 20"
      ]
    },
    {
      "cell_type": "markdown",
      "metadata": {
        "id": "YxUzYSG7kIv2"
      },
      "source": [
        "입력 데이터 길이가 20s이니, svs가 20s 이내에 등장하는 것은 무시함"
      ]
    },
    {
      "cell_type": "code",
      "execution_count": 14,
      "metadata": {
        "id": "n-M-2ju5kIv2",
        "outputId": "b1fb6b54-8351-462e-914c-5176b2766ab9",
        "colab": {
          "base_uri": "https://localhost:8080/"
        }
      },
      "outputs": [
        {
          "output_type": "stream",
          "name": "stdout",
          "text": [
            "[  53845   54008   54208 ... 2700200 2700400 2700600]\n"
          ]
        }
      ],
      "source": [
        "# svs index를 20초 뒤로 미룸\n",
        "### =========== Your code here ====================\n",
        "\n",
        "svs_points = svs_index[svs_index > length*srate]\n",
        "\n",
        "### ===============================================\n",
        "\n",
        "print(svs_points)"
      ]
    },
    {
      "cell_type": "markdown",
      "metadata": {
        "id": "ijimyJAqkIv2"
      },
      "source": [
        "### Arterial wave segment 추출"
      ]
    },
    {
      "cell_type": "code",
      "execution_count": 15,
      "metadata": {
        "id": "NOuOdEGIkIv2",
        "outputId": "8600a1ad-e6ec-45c9-f3de-11a2fc0ad7c5",
        "colab": {
          "base_uri": "https://localhost:8080/"
        }
      },
      "outputs": [
        {
          "output_type": "stream",
          "name": "stdout",
          "text": [
            "[61. 61. 61. ... 63. 63. 63.]\n",
            "[[ 62.2872   62.2872   58.3374  ...  62.2872   65.2496   66.2371 ]\n",
            " [ 54.3876   56.3625   62.2872  ...  53.4001   51.4252   50.4377 ]\n",
            " [ 65.2496   64.2621   63.2747  ...  75.1242   70.1869   67.2245 ]\n",
            " ...\n",
            " [  6.00217 -13.747    30.6886  ...  -9.79714  -5.84731  19.8266 ]\n",
            " [-26.5839   23.7764   10.9395  ...   2.05234 -16.7093   28.7137 ]\n",
            " [-24.609    21.8015    4.02726 ...  -3.8724  -10.7846   20.814  ]]\n"
          ]
        }
      ],
      "source": [
        "# arterial segment 추출하기\n",
        "### =========== Your code here ====================\n",
        "svs_values_list = [svs_data_pd[idx] for idx in svs_points]\n",
        "art_seg_list = [art_full_pd[idx-(length*srate):idx].values for idx in svs_points]\n",
        "### ===============================================\n",
        "\n",
        "svs_values_np = np.array(svs_values_list)\n",
        "art_seg_np = np.array(art_seg_list)\n",
        "\n",
        "print(svs_values_np)\n",
        "print(art_seg_np)"
      ]
    },
    {
      "cell_type": "markdown",
      "metadata": {
        "id": "M-df0IzFkIv3"
      },
      "source": [
        "### 조건에 따라 filter들 정의"
      ]
    },
    {
      "cell_type": "code",
      "execution_count": 16,
      "metadata": {
        "id": "bllmIuPzkIv3",
        "outputId": "cd47fb71-8d85-42f8-88d5-9594c966cf59",
        "colab": {
          "base_uri": "https://localhost:8080/"
        }
      },
      "outputs": [
        {
          "output_type": "stream",
          "name": "stderr",
          "text": [
            "100%|██████████| 13217/13217 [03:43<00:00, 59.11it/s]\n"
          ]
        }
      ],
      "source": [
        "# 필터들 선언\n",
        "# svs min-max filter\n",
        "\n",
        "### =========== Your code here ====================\n",
        "\n",
        "svs_max_filter = svs_values_np < max_limit_svs\n",
        "svs_min_filter = svs_values_np > min_limit_svs\n",
        "svs_filter = svs_max_filter & svs_min_filter\n",
        "### ===============================================\n",
        "\n",
        "\n",
        "# abp range filter\n",
        "\n",
        "### =========== Your code here ====================\n",
        "\n",
        "art_filter_list = []\n",
        "for seg in art_seg_np:\n",
        "    filter_value = (np.array(seg) > 25.0).all() and (np.array(seg) < 250.0).all()\n",
        "    art_filter_list.append(filter_value)\n",
        "art_filter = np.array(art_filter_list)\n",
        "\n",
        "# .all()로 모든 구간에서 만족하도록 한다\n",
        "\n",
        "### ===============================================\n",
        "\n",
        "\n",
        "# mstds 필터\n",
        "\n",
        "### =========== Your code here ====================\n",
        "\n",
        "mstds_values_list = []\n",
        "for seg in tqdm(art_seg_np):\n",
        "    if (np.array(seg) < 0.).any():\n",
        "        mstds_values_list.append(float(0.))\n",
        "    else:\n",
        "        mstd_val, _ = pre.process_beat(seg)\n",
        "        mstds_values_list.append(mstd_val)\n",
        "mstds_filter = np.array(mstds_values_list) > 0.\n",
        "\n",
        "### ===============================================\n"
      ]
    },
    {
      "cell_type": "markdown",
      "source": [
        "The all() function returns True if all items in an iterable are true, otherwise it returns False. If the iterable object is empty, the all() function also returns True."
      ],
      "metadata": {
        "id": "AtOn0VAYYF00"
      }
    },
    {
      "cell_type": "markdown",
      "metadata": {
        "id": "6bJB125zkIv3"
      },
      "source": [
        "전체 필터 하나로 만들기"
      ]
    },
    {
      "cell_type": "code",
      "execution_count": 17,
      "metadata": {
        "id": "ydDWCVxmkIv3"
      },
      "outputs": [],
      "source": [
        "### =========== Your code here ====================\n",
        "\n",
        "\n",
        "all_filters = svs_filter & art_filter & mstds_filter\n",
        "\n",
        "### ===============================================\n"
      ]
    },
    {
      "cell_type": "markdown",
      "metadata": {
        "id": "RtsSSBCEkIv3"
      },
      "source": [
        "### 필터 적용하여 데이터 추출"
      ]
    },
    {
      "cell_type": "code",
      "execution_count": 18,
      "metadata": {
        "id": "sDoX3Bs5kIv3",
        "outputId": "23c923df-1c80-4ab6-db05-2d6237ccbf91",
        "colab": {
          "base_uri": "https://localhost:8080/"
        }
      },
      "outputs": [
        {
          "output_type": "stream",
          "name": "stdout",
          "text": [
            "(12363,)\n",
            "(12363, 2000)\n"
          ]
        }
      ],
      "source": [
        "# 필터 적용해서 추출\n",
        "\n",
        "### =========== Your code here ====================\n",
        "\n",
        "svs_filtered = svs_values_np[all_filters]\n",
        "art_filtered = art_seg_np[all_filters]\n",
        "\n",
        "### ===============================================\n",
        "\n",
        "print(svs_filtered.shape)\n",
        "print(art_filtered.shape)"
      ]
    },
    {
      "cell_type": "markdown",
      "metadata": {
        "id": "CuJ41US7kIv3"
      },
      "source": [
        "데이터셋 정의"
      ]
    },
    {
      "cell_type": "code",
      "execution_count": 19,
      "metadata": {
        "id": "k_vmkBeBkIv4"
      },
      "outputs": [],
      "source": [
        "x_data = art_filtered\n",
        "y_label = svs_filtered"
      ]
    },
    {
      "cell_type": "code",
      "execution_count": 20,
      "metadata": {
        "id": "zp_Xx0WrkIv4",
        "outputId": "5aae1cc9-5a18-473a-bd42-cf52c28cf8a3",
        "colab": {
          "base_uri": "https://localhost:8080/"
        }
      },
      "outputs": [
        {
          "output_type": "stream",
          "name": "stdout",
          "text": [
            "(12363, 2000)\n",
            "(12363,)\n"
          ]
        }
      ],
      "source": [
        "print(x_data.shape)\n",
        "print(y_label.shape)"
      ]
    }
  ],
  "metadata": {
    "kernelspec": {
      "display_name": "keras",
      "language": "python",
      "name": "lims1_keras"
    },
    "language_info": {
      "codemirror_mode": {
        "name": "ipython",
        "version": 3
      },
      "file_extension": ".py",
      "mimetype": "text/x-python",
      "name": "python",
      "nbconvert_exporter": "python",
      "pygments_lexer": "ipython3",
      "version": "3.8.12"
    },
    "colab": {
      "provenance": [],
      "include_colab_link": true
    }
  },
  "nbformat": 4,
  "nbformat_minor": 0
}